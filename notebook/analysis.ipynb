{
 "cells": [
  {
   "cell_type": "markdown",
   "id": "48c8f3b2",
   "metadata": {},
   "source": [
    "# Profitable App Profiles for the App Store and Google Play Markets\n",
    "\n",
    "This project is undertaken from the perspective of a data analyst at a company specializing in the development of free-to-download mobile applications for Google Play and the App Store. The company's primary revenue model relies on in-app advertisements; consequently, user engagement is a critical determinant of financial performance.\n",
    "\n",
    "Through the analysis of mobile application data, this project aims to identify application categories that attract a substantial user base and foster high engagement. The objective is to furnish the development team with data-driven recommendations regarding application types that exhibit strong potential for user engagement. Identifying the key attributes of successful applications will enable the company to align its development strategy more effectively with market demand, thereby enhancing revenue generation via optimized ad exposure.\n"
   ]
  },
  {
   "cell_type": "markdown",
   "id": "b0c5ee16",
   "metadata": {},
   "source": [
    "## Opening and Exploring the Data\n"
   ]
  },
  {
   "cell_type": "markdown",
   "id": "62193a50",
   "metadata": {},
   "source": [
    "To optimize time and resources, this analysis utilizes publicly available datasets from Kaggle, negating the need for extensive primary data collection.\n",
    "\n",
    "The two datasets used are:\n",
    "\n",
    "-   **[Google Play Store Apps](https://www.kaggle.com/datasets/lava18/google-play-store-apps):** Contains data on approximately ten thousand Android apps from Google Play.\n",
    "\n",
    "-   **[Mobile App Store](https://www.kaggle.com/datasets/ramamet4/app-store-apple-data-set-10k-apps):** Contains data on approximately seven thousand iOS apps from the App Store.\n",
    "\n",
    "The initial phase involves loading and performing an initial exploration of the datasets. Each dataset will be loaded into a pandas DataFrame.\n"
   ]
  },
  {
   "cell_type": "markdown",
   "id": "77198c47",
   "metadata": {},
   "source": [
    "### Import the pandas library\n"
   ]
  },
  {
   "cell_type": "markdown",
   "id": "b5df0e17",
   "metadata": {},
   "source": [
    "The `pandas` library is imported to facilitate data manipulation and analysis:\n"
   ]
  },
  {
   "cell_type": "code",
   "execution_count": 1,
   "id": "a1e8028d",
   "metadata": {},
   "outputs": [],
   "source": [
    "import pandas as pd"
   ]
  },
  {
   "cell_type": "markdown",
   "id": "2ba66132",
   "metadata": {},
   "source": [
    "### Open the Google Play dataset\n"
   ]
  },
  {
   "cell_type": "markdown",
   "id": "7818b1c8",
   "metadata": {},
   "source": [
    "Utilizing the imported `pandas` library, the `read_csv()` function is employed to load the Google Play dataset into a `DataFrame` object named `android`.\n"
   ]
  },
  {
   "cell_type": "code",
   "execution_count": 2,
   "id": "eecb249b",
   "metadata": {},
   "outputs": [],
   "source": [
    "# Open the Google Play Store dataset as a DataFrame object, setting the header\n",
    "android = pd.read_csv(\"../data/googleplaystore.csv\", header=0)"
   ]
  },
  {
   "cell_type": "markdown",
   "id": "8084f299",
   "metadata": {},
   "source": [
    "### Open the App Store dataset\n"
   ]
  },
  {
   "cell_type": "markdown",
   "id": "3b5f4b47",
   "metadata": {},
   "source": [
    "A similar procedure is followed for the App Store dataset, loading it into a `DataFrame` named `ios`.\n"
   ]
  },
  {
   "cell_type": "code",
   "execution_count": 3,
   "id": "d42e08d0",
   "metadata": {},
   "outputs": [],
   "source": [
    "# Open the iOS App Store dataset as a DataFrame object, setting the header and index column\n",
    "ios = pd.read_csv(\"../data/AppleStore.csv\", header=0, index_col=0)"
   ]
  },
  {
   "cell_type": "markdown",
   "id": "175fa30c",
   "metadata": {},
   "source": [
    "### Create a function to help explore the datasets\n"
   ]
  },
  {
   "cell_type": "markdown",
   "id": "da73308b",
   "metadata": {},
   "source": [
    "To streamline the initial data exploration process, a helper function, `explore_data()`, is defined. This function displays a specified number of rows from a dataset in a clear format and can optionally report the dataset's dimensions.\n"
   ]
  },
  {
   "cell_type": "code",
   "execution_count": 4,
   "id": "68fbd8f0",
   "metadata": {},
   "outputs": [],
   "source": [
    "def explore_data(dataset, row_count=5, rows_and_columns=False):\n",
    "    \"\"\"Displays a subset of rows from a given dataset and optionally prints its dimensions (number of rows and columns).\"\"\"\n",
    "    # Slice and display the dataset\n",
    "    display(dataset.head(row_count if row_count else \"\"))\n",
    "\n",
    "    # Prints the number of rows and columns if rows_and_columns is True\n",
    "    if rows_and_columns:\n",
    "        print(\"Number of rows: \", dataset.shape[0])\n",
    "        print(\"Number of columns: \", dataset.shape[1])"
   ]
  },
  {
   "cell_type": "markdown",
   "id": "0d7700ef",
   "metadata": {},
   "source": [
    "### Use `explore_data()` to explore the datasets\n"
   ]
  },
  {
   "cell_type": "markdown",
   "id": "179f2fc0",
   "metadata": {},
   "source": [
    "#### Google Play Store\n"
   ]
  },
  {
   "cell_type": "markdown",
   "id": "237b92ca",
   "metadata": {},
   "source": [
    "The `explore_data()` function is utilized to display the first three rows and the dimensions of the Google Play Store dataset:\n"
   ]
  },
  {
   "cell_type": "code",
   "execution_count": 5,
   "id": "cc15b50f",
   "metadata": {},
   "outputs": [
    {
     "data": {
      "text/html": [
       "<div>\n",
       "<style scoped>\n",
       "    .dataframe tbody tr th:only-of-type {\n",
       "        vertical-align: middle;\n",
       "    }\n",
       "\n",
       "    .dataframe tbody tr th {\n",
       "        vertical-align: top;\n",
       "    }\n",
       "\n",
       "    .dataframe thead th {\n",
       "        text-align: right;\n",
       "    }\n",
       "</style>\n",
       "<table border=\"1\" class=\"dataframe\">\n",
       "  <thead>\n",
       "    <tr style=\"text-align: right;\">\n",
       "      <th></th>\n",
       "      <th>App</th>\n",
       "      <th>Category</th>\n",
       "      <th>Rating</th>\n",
       "      <th>Reviews</th>\n",
       "      <th>Size</th>\n",
       "      <th>Installs</th>\n",
       "      <th>Type</th>\n",
       "      <th>Price</th>\n",
       "      <th>Content Rating</th>\n",
       "      <th>Genres</th>\n",
       "      <th>Last Updated</th>\n",
       "      <th>Current Ver</th>\n",
       "      <th>Android Ver</th>\n",
       "    </tr>\n",
       "  </thead>\n",
       "  <tbody>\n",
       "    <tr>\n",
       "      <th>0</th>\n",
       "      <td>Photo Editor &amp; Candy Camera &amp; Grid &amp; ScrapBook</td>\n",
       "      <td>ART_AND_DESIGN</td>\n",
       "      <td>4.1</td>\n",
       "      <td>159</td>\n",
       "      <td>19M</td>\n",
       "      <td>10,000+</td>\n",
       "      <td>Free</td>\n",
       "      <td>0</td>\n",
       "      <td>Everyone</td>\n",
       "      <td>Art &amp; Design</td>\n",
       "      <td>January 7, 2018</td>\n",
       "      <td>1.0.0</td>\n",
       "      <td>4.0.3 and up</td>\n",
       "    </tr>\n",
       "    <tr>\n",
       "      <th>1</th>\n",
       "      <td>Coloring book moana</td>\n",
       "      <td>ART_AND_DESIGN</td>\n",
       "      <td>3.9</td>\n",
       "      <td>967</td>\n",
       "      <td>14M</td>\n",
       "      <td>500,000+</td>\n",
       "      <td>Free</td>\n",
       "      <td>0</td>\n",
       "      <td>Everyone</td>\n",
       "      <td>Art &amp; Design;Pretend Play</td>\n",
       "      <td>January 15, 2018</td>\n",
       "      <td>2.0.0</td>\n",
       "      <td>4.0.3 and up</td>\n",
       "    </tr>\n",
       "    <tr>\n",
       "      <th>2</th>\n",
       "      <td>U Launcher Lite – FREE Live Cool Themes, Hide ...</td>\n",
       "      <td>ART_AND_DESIGN</td>\n",
       "      <td>4.7</td>\n",
       "      <td>87510</td>\n",
       "      <td>8.7M</td>\n",
       "      <td>5,000,000+</td>\n",
       "      <td>Free</td>\n",
       "      <td>0</td>\n",
       "      <td>Everyone</td>\n",
       "      <td>Art &amp; Design</td>\n",
       "      <td>August 1, 2018</td>\n",
       "      <td>1.2.4</td>\n",
       "      <td>4.0.3 and up</td>\n",
       "    </tr>\n",
       "  </tbody>\n",
       "</table>\n",
       "</div>"
      ],
      "text/plain": [
       "                                                 App        Category  Rating  \\\n",
       "0     Photo Editor & Candy Camera & Grid & ScrapBook  ART_AND_DESIGN     4.1   \n",
       "1                                Coloring book moana  ART_AND_DESIGN     3.9   \n",
       "2  U Launcher Lite – FREE Live Cool Themes, Hide ...  ART_AND_DESIGN     4.7   \n",
       "\n",
       "  Reviews  Size    Installs  Type Price Content Rating  \\\n",
       "0     159   19M     10,000+  Free     0       Everyone   \n",
       "1     967   14M    500,000+  Free     0       Everyone   \n",
       "2   87510  8.7M  5,000,000+  Free     0       Everyone   \n",
       "\n",
       "                      Genres      Last Updated Current Ver   Android Ver  \n",
       "0               Art & Design   January 7, 2018       1.0.0  4.0.3 and up  \n",
       "1  Art & Design;Pretend Play  January 15, 2018       2.0.0  4.0.3 and up  \n",
       "2               Art & Design    August 1, 2018       1.2.4  4.0.3 and up  "
      ]
     },
     "metadata": {},
     "output_type": "display_data"
    },
    {
     "name": "stdout",
     "output_type": "stream",
     "text": [
      "Number of rows:  10841\n",
      "Number of columns:  13\n"
     ]
    }
   ],
   "source": [
    "explore_data(android, 3, True)"
   ]
  },
  {
   "cell_type": "markdown",
   "id": "6505f6ed",
   "metadata": {},
   "source": [
    "The output presents the column headers and the initial three records of the Google Play Store dataset. The dataset comprises 10,841 entries (apps) and 13 features (columns).\n",
    "\n",
    "A preliminary assessment indicates that the columns `'App'`, `'Category'`, `'Reviews'`, `'Installs'`, `'Type'`, `'Price'`, and `'Genres'` are potentially relevant for this analysis.\n"
   ]
  },
  {
   "cell_type": "markdown",
   "id": "6680492f",
   "metadata": {},
   "source": [
    "#### iOS App Store\n"
   ]
  },
  {
   "cell_type": "markdown",
   "id": "9700f3bf",
   "metadata": {},
   "source": [
    "The same exploratory steps are performed for the iOS App Store dataset:\n"
   ]
  },
  {
   "cell_type": "code",
   "execution_count": 6,
   "id": "dbb13109",
   "metadata": {},
   "outputs": [
    {
     "data": {
      "text/html": [
       "<div>\n",
       "<style scoped>\n",
       "    .dataframe tbody tr th:only-of-type {\n",
       "        vertical-align: middle;\n",
       "    }\n",
       "\n",
       "    .dataframe tbody tr th {\n",
       "        vertical-align: top;\n",
       "    }\n",
       "\n",
       "    .dataframe thead th {\n",
       "        text-align: right;\n",
       "    }\n",
       "</style>\n",
       "<table border=\"1\" class=\"dataframe\">\n",
       "  <thead>\n",
       "    <tr style=\"text-align: right;\">\n",
       "      <th></th>\n",
       "      <th>id</th>\n",
       "      <th>track_name</th>\n",
       "      <th>size_bytes</th>\n",
       "      <th>currency</th>\n",
       "      <th>price</th>\n",
       "      <th>rating_count_tot</th>\n",
       "      <th>rating_count_ver</th>\n",
       "      <th>user_rating</th>\n",
       "      <th>user_rating_ver</th>\n",
       "      <th>ver</th>\n",
       "      <th>cont_rating</th>\n",
       "      <th>prime_genre</th>\n",
       "      <th>sup_devices.num</th>\n",
       "      <th>ipadSc_urls.num</th>\n",
       "      <th>lang.num</th>\n",
       "      <th>vpp_lic</th>\n",
       "    </tr>\n",
       "  </thead>\n",
       "  <tbody>\n",
       "    <tr>\n",
       "      <th>1</th>\n",
       "      <td>281656475</td>\n",
       "      <td>PAC-MAN Premium</td>\n",
       "      <td>100788224</td>\n",
       "      <td>USD</td>\n",
       "      <td>3.99</td>\n",
       "      <td>21292</td>\n",
       "      <td>26</td>\n",
       "      <td>4.0</td>\n",
       "      <td>4.5</td>\n",
       "      <td>6.3.5</td>\n",
       "      <td>4+</td>\n",
       "      <td>Games</td>\n",
       "      <td>38</td>\n",
       "      <td>5</td>\n",
       "      <td>10</td>\n",
       "      <td>1</td>\n",
       "    </tr>\n",
       "    <tr>\n",
       "      <th>2</th>\n",
       "      <td>281796108</td>\n",
       "      <td>Evernote - stay organized</td>\n",
       "      <td>158578688</td>\n",
       "      <td>USD</td>\n",
       "      <td>0.00</td>\n",
       "      <td>161065</td>\n",
       "      <td>26</td>\n",
       "      <td>4.0</td>\n",
       "      <td>3.5</td>\n",
       "      <td>8.2.2</td>\n",
       "      <td>4+</td>\n",
       "      <td>Productivity</td>\n",
       "      <td>37</td>\n",
       "      <td>5</td>\n",
       "      <td>23</td>\n",
       "      <td>1</td>\n",
       "    </tr>\n",
       "    <tr>\n",
       "      <th>3</th>\n",
       "      <td>281940292</td>\n",
       "      <td>WeatherBug - Local Weather, Radar, Maps, Alerts</td>\n",
       "      <td>100524032</td>\n",
       "      <td>USD</td>\n",
       "      <td>0.00</td>\n",
       "      <td>188583</td>\n",
       "      <td>2822</td>\n",
       "      <td>3.5</td>\n",
       "      <td>4.5</td>\n",
       "      <td>5.0.0</td>\n",
       "      <td>4+</td>\n",
       "      <td>Weather</td>\n",
       "      <td>37</td>\n",
       "      <td>5</td>\n",
       "      <td>3</td>\n",
       "      <td>1</td>\n",
       "    </tr>\n",
       "  </tbody>\n",
       "</table>\n",
       "</div>"
      ],
      "text/plain": [
       "          id                                       track_name  size_bytes  \\\n",
       "1  281656475                                  PAC-MAN Premium   100788224   \n",
       "2  281796108                        Evernote - stay organized   158578688   \n",
       "3  281940292  WeatherBug - Local Weather, Radar, Maps, Alerts   100524032   \n",
       "\n",
       "  currency  price  rating_count_tot  rating_count_ver  user_rating  \\\n",
       "1      USD   3.99             21292                26          4.0   \n",
       "2      USD   0.00            161065                26          4.0   \n",
       "3      USD   0.00            188583              2822          3.5   \n",
       "\n",
       "   user_rating_ver    ver cont_rating   prime_genre  sup_devices.num  \\\n",
       "1              4.5  6.3.5          4+         Games               38   \n",
       "2              3.5  8.2.2          4+  Productivity               37   \n",
       "3              4.5  5.0.0          4+       Weather               37   \n",
       "\n",
       "   ipadSc_urls.num  lang.num  vpp_lic  \n",
       "1                5        10        1  \n",
       "2                5        23        1  \n",
       "3                5         3        1  "
      ]
     },
     "metadata": {},
     "output_type": "display_data"
    },
    {
     "name": "stdout",
     "output_type": "stream",
     "text": [
      "Number of rows:  7197\n",
      "Number of columns:  16\n"
     ]
    }
   ],
   "source": [
    "explore_data(ios, 3, True)"
   ]
  },
  {
   "cell_type": "markdown",
   "id": "2d91a05a",
   "metadata": {},
   "source": [
    "This dataset contains 7,197 application records and 16 features.\n",
    "\n",
    "For the App Store dataset, the columns `'track_name'`, `'currency'`, `'price'`, `'rating_count_tot'`, `'rating_count_ver'`, and `'prime_genre'` appear most pertinent to the analytical objectives.\n",
    "\n",
    "More details about each column can be found in the data set [documentation](https://www.kaggle.com/datasets/ramamet4/app-store-apple-data-set-10k-apps).\n"
   ]
  },
  {
   "cell_type": "markdown",
   "id": "47822854",
   "metadata": {},
   "source": [
    "## Data Cleaning\n"
   ]
  },
  {
   "cell_type": "markdown",
   "id": "13356994",
   "metadata": {},
   "source": [
    "With the datasets loaded and initially explored, the subsequent critical phase is data cleaning.\n",
    "\n",
    "The data cleaning protocol encompasses these key operations:\n",
    "\n",
    "-   Identifying and rectifying or removing inaccurate data entries.\n",
    "-   Detecting and eliminating duplicate records.\n",
    "-   Filtering out non-English applications, as the company's development focuses on English-speaking audiences.\n",
    "-   Excluding paid applications, consistent with the company's strategy of developing free-to-download apps.\n"
   ]
  },
  {
   "cell_type": "markdown",
   "id": "9d9c1e60",
   "metadata": {},
   "source": [
    "### Detecting and Deleting Inaccurate Data\n"
   ]
  },
  {
   "cell_type": "markdown",
   "id": "d86c5e88",
   "metadata": {},
   "source": [
    "The [discussion forum](https://www.kaggle.com/datasets/lava18/google-play-store-apps/discussion) for the Google Play Store dataset [indicates an erroneous entry at row 10472](https://www.kaggle.com/datasets/lava18/google-play-store-apps/discussion/66015). This error is attributed to a missing `Rating` value, which resulted in a misalignment of subsequent column data for that specific row.\n",
    "\n",
    "To examine this anomaly, the first row of the dataset is printed alongside the problematic row 10472.\n"
   ]
  },
  {
   "cell_type": "code",
   "execution_count": 7,
   "id": "5d366d37",
   "metadata": {},
   "outputs": [
    {
     "data": {
      "text/html": [
       "<div>\n",
       "<style scoped>\n",
       "    .dataframe tbody tr th:only-of-type {\n",
       "        vertical-align: middle;\n",
       "    }\n",
       "\n",
       "    .dataframe tbody tr th {\n",
       "        vertical-align: top;\n",
       "    }\n",
       "\n",
       "    .dataframe thead th {\n",
       "        text-align: right;\n",
       "    }\n",
       "</style>\n",
       "<table border=\"1\" class=\"dataframe\">\n",
       "  <thead>\n",
       "    <tr style=\"text-align: right;\">\n",
       "      <th></th>\n",
       "      <th>App</th>\n",
       "      <th>Category</th>\n",
       "      <th>Rating</th>\n",
       "      <th>Reviews</th>\n",
       "      <th>Size</th>\n",
       "      <th>Installs</th>\n",
       "      <th>Type</th>\n",
       "      <th>Price</th>\n",
       "      <th>Content Rating</th>\n",
       "      <th>Genres</th>\n",
       "      <th>Last Updated</th>\n",
       "      <th>Current Ver</th>\n",
       "      <th>Android Ver</th>\n",
       "    </tr>\n",
       "  </thead>\n",
       "  <tbody>\n",
       "    <tr>\n",
       "      <th>0</th>\n",
       "      <td>Photo Editor &amp; Candy Camera &amp; Grid &amp; ScrapBook</td>\n",
       "      <td>ART_AND_DESIGN</td>\n",
       "      <td>4.1</td>\n",
       "      <td>159</td>\n",
       "      <td>19M</td>\n",
       "      <td>10,000+</td>\n",
       "      <td>Free</td>\n",
       "      <td>0</td>\n",
       "      <td>Everyone</td>\n",
       "      <td>Art &amp; Design</td>\n",
       "      <td>January 7, 2018</td>\n",
       "      <td>1.0.0</td>\n",
       "      <td>4.0.3 and up</td>\n",
       "    </tr>\n",
       "    <tr>\n",
       "      <th>10472</th>\n",
       "      <td>Life Made WI-Fi Touchscreen Photo Frame</td>\n",
       "      <td>1.9</td>\n",
       "      <td>19.0</td>\n",
       "      <td>3.0M</td>\n",
       "      <td>1,000+</td>\n",
       "      <td>Free</td>\n",
       "      <td>0</td>\n",
       "      <td>Everyone</td>\n",
       "      <td>NaN</td>\n",
       "      <td>February 11, 2018</td>\n",
       "      <td>1.0.19</td>\n",
       "      <td>4.0 and up</td>\n",
       "      <td>NaN</td>\n",
       "    </tr>\n",
       "  </tbody>\n",
       "</table>\n",
       "</div>"
      ],
      "text/plain": [
       "                                                  App        Category  Rating  \\\n",
       "0      Photo Editor & Candy Camera & Grid & ScrapBook  ART_AND_DESIGN     4.1   \n",
       "10472         Life Made WI-Fi Touchscreen Photo Frame             1.9    19.0   \n",
       "\n",
       "      Reviews    Size Installs  Type     Price Content Rating  \\\n",
       "0         159     19M  10,000+  Free         0       Everyone   \n",
       "10472    3.0M  1,000+     Free     0  Everyone            NaN   \n",
       "\n",
       "                  Genres     Last Updated Current Ver   Android Ver  \n",
       "0           Art & Design  January 7, 2018       1.0.0  4.0.3 and up  \n",
       "10472  February 11, 2018           1.0.19  4.0 and up           NaN  "
      ]
     },
     "execution_count": 7,
     "metadata": {},
     "output_type": "execute_result"
    }
   ],
   "source": [
    "# Print the first row of the dataset and row 10472\n",
    "android.iloc[[0, 10472]]"
   ]
  },
  {
   "cell_type": "markdown",
   "id": "c0836d91",
   "metadata": {},
   "source": [
    "The output confirms that row 10472 pertains to the application `Life Made Wi-Fi Touchscreen Photo Frame`. The data for this entry incorrectly lists its `Category` as `1.9` and its `Rating` as `19`. This rating is invalid, as the maximum permissible rating on the Play Store is 5, a fact supported by other entries such as the first row.\n",
    "\n",
    "A comparison between row 10472 and a correctly formatted row (e.g., row 1) suggests that the Category value is indeed missing for row 10472, leading to the data misalignment, an observation consistent with the [dataset's discussion forum](https://www.kaggle.com/datasets/lava18/google-play-store-apps/discussion/66015).\n",
    "\n",
    "The identified erroneous row is subsequently removed from the dataset:\n"
   ]
  },
  {
   "cell_type": "code",
   "execution_count": 8,
   "id": "388fc1c5",
   "metadata": {},
   "outputs": [
    {
     "name": "stdout",
     "output_type": "stream",
     "text": [
      "Number of Rows Before Row Deletion:  10841\n",
      "Number of Rows After Row Deletion:  10840\n"
     ]
    }
   ],
   "source": [
    "# Print the number of rows in the dataset before row deletion\n",
    "print(\"Number of Rows Before Row Deletion: \", android.shape[0])\n",
    "# Drop the row with the missing column\n",
    "android.drop(10472, inplace=True)\n",
    "# Print the number of rows in the dataset after row deletion\n",
    "print(\"Number of Rows After Row Deletion: \", android.shape[0])"
   ]
  },
  {
   "cell_type": "markdown",
   "id": "83793acd",
   "metadata": {},
   "source": [
    "### Detect and Remove Duplicate Data\n"
   ]
  },
  {
   "cell_type": "markdown",
   "id": "a6a84df1",
   "metadata": {},
   "source": [
    "#### Google Play Store\n"
   ]
  },
  {
   "cell_type": "markdown",
   "id": "873a8a70",
   "metadata": {},
   "source": [
    "Further exploration of the Google Play Store dataset reveals the presence of duplicate application entries. For example, the application \"Instagram\" is listed multiple times:\n"
   ]
  },
  {
   "cell_type": "code",
   "execution_count": 9,
   "id": "efeedc25",
   "metadata": {},
   "outputs": [
    {
     "data": {
      "text/html": [
       "<div>\n",
       "<style scoped>\n",
       "    .dataframe tbody tr th:only-of-type {\n",
       "        vertical-align: middle;\n",
       "    }\n",
       "\n",
       "    .dataframe tbody tr th {\n",
       "        vertical-align: top;\n",
       "    }\n",
       "\n",
       "    .dataframe thead th {\n",
       "        text-align: right;\n",
       "    }\n",
       "</style>\n",
       "<table border=\"1\" class=\"dataframe\">\n",
       "  <thead>\n",
       "    <tr style=\"text-align: right;\">\n",
       "      <th></th>\n",
       "      <th>App</th>\n",
       "      <th>Category</th>\n",
       "      <th>Rating</th>\n",
       "      <th>Reviews</th>\n",
       "      <th>Size</th>\n",
       "      <th>Installs</th>\n",
       "      <th>Type</th>\n",
       "      <th>Price</th>\n",
       "      <th>Content Rating</th>\n",
       "      <th>Genres</th>\n",
       "      <th>Last Updated</th>\n",
       "      <th>Current Ver</th>\n",
       "      <th>Android Ver</th>\n",
       "    </tr>\n",
       "  </thead>\n",
       "  <tbody>\n",
       "    <tr>\n",
       "      <th>2545</th>\n",
       "      <td>Instagram</td>\n",
       "      <td>SOCIAL</td>\n",
       "      <td>4.5</td>\n",
       "      <td>66577313</td>\n",
       "      <td>Varies with device</td>\n",
       "      <td>1,000,000,000+</td>\n",
       "      <td>Free</td>\n",
       "      <td>0</td>\n",
       "      <td>Teen</td>\n",
       "      <td>Social</td>\n",
       "      <td>July 31, 2018</td>\n",
       "      <td>Varies with device</td>\n",
       "      <td>Varies with device</td>\n",
       "    </tr>\n",
       "    <tr>\n",
       "      <th>2604</th>\n",
       "      <td>Instagram</td>\n",
       "      <td>SOCIAL</td>\n",
       "      <td>4.5</td>\n",
       "      <td>66577446</td>\n",
       "      <td>Varies with device</td>\n",
       "      <td>1,000,000,000+</td>\n",
       "      <td>Free</td>\n",
       "      <td>0</td>\n",
       "      <td>Teen</td>\n",
       "      <td>Social</td>\n",
       "      <td>July 31, 2018</td>\n",
       "      <td>Varies with device</td>\n",
       "      <td>Varies with device</td>\n",
       "    </tr>\n",
       "    <tr>\n",
       "      <th>2611</th>\n",
       "      <td>Instagram</td>\n",
       "      <td>SOCIAL</td>\n",
       "      <td>4.5</td>\n",
       "      <td>66577313</td>\n",
       "      <td>Varies with device</td>\n",
       "      <td>1,000,000,000+</td>\n",
       "      <td>Free</td>\n",
       "      <td>0</td>\n",
       "      <td>Teen</td>\n",
       "      <td>Social</td>\n",
       "      <td>July 31, 2018</td>\n",
       "      <td>Varies with device</td>\n",
       "      <td>Varies with device</td>\n",
       "    </tr>\n",
       "    <tr>\n",
       "      <th>3909</th>\n",
       "      <td>Instagram</td>\n",
       "      <td>SOCIAL</td>\n",
       "      <td>4.5</td>\n",
       "      <td>66509917</td>\n",
       "      <td>Varies with device</td>\n",
       "      <td>1,000,000,000+</td>\n",
       "      <td>Free</td>\n",
       "      <td>0</td>\n",
       "      <td>Teen</td>\n",
       "      <td>Social</td>\n",
       "      <td>July 31, 2018</td>\n",
       "      <td>Varies with device</td>\n",
       "      <td>Varies with device</td>\n",
       "    </tr>\n",
       "  </tbody>\n",
       "</table>\n",
       "</div>"
      ],
      "text/plain": [
       "            App Category  Rating   Reviews                Size  \\\n",
       "2545  Instagram   SOCIAL     4.5  66577313  Varies with device   \n",
       "2604  Instagram   SOCIAL     4.5  66577446  Varies with device   \n",
       "2611  Instagram   SOCIAL     4.5  66577313  Varies with device   \n",
       "3909  Instagram   SOCIAL     4.5  66509917  Varies with device   \n",
       "\n",
       "            Installs  Type Price Content Rating  Genres   Last Updated  \\\n",
       "2545  1,000,000,000+  Free     0           Teen  Social  July 31, 2018   \n",
       "2604  1,000,000,000+  Free     0           Teen  Social  July 31, 2018   \n",
       "2611  1,000,000,000+  Free     0           Teen  Social  July 31, 2018   \n",
       "3909  1,000,000,000+  Free     0           Teen  Social  July 31, 2018   \n",
       "\n",
       "             Current Ver         Android Ver  \n",
       "2545  Varies with device  Varies with device  \n",
       "2604  Varies with device  Varies with device  \n",
       "2611  Varies with device  Varies with device  \n",
       "3909  Varies with device  Varies with device  "
      ]
     },
     "execution_count": 9,
     "metadata": {},
     "output_type": "execute_result"
    }
   ],
   "source": [
    "# Find all instances of \"Instagram\" in the dataset\n",
    "instagram_android = android.loc[android[\"App\"] == \"Instagram\"]\n",
    "instagram_android"
   ]
  },
  {
   "cell_type": "markdown",
   "id": "b01de02c",
   "metadata": {},
   "source": [
    "The output displays four entries for \"Instagram.\" These entries possess nearly identical values across most columns, with a notable exception in the `Reviews` column. This variance in review counts likely indicates that the data for these duplicate entries were collected at different times.\n",
    "\n",
    "The `find_duplicates` function is defined below to quantify the extent of such duplicate entries based on a specified subset of columns:\n"
   ]
  },
  {
   "cell_type": "code",
   "execution_count": 10,
   "id": "65d0405c",
   "metadata": {},
   "outputs": [],
   "source": [
    "def find_duplicates(dataset, subset):\n",
    "    \"\"\"Identifies and counts duplicate rows based on specified columns.\"\"\"\n",
    "    # Create a boolean array of apps that have duplicate names\n",
    "    duplicates_bool = dataset.duplicated(subset=subset)\n",
    "\n",
    "    # Find all duplicates within the dataset\n",
    "    duplicates = dataset[duplicates_bool]\n",
    "\n",
    "    # Find number of duplicate apps\n",
    "    num_duplicate_apps = duplicates.shape[0]\n",
    "    print(\"Number of duplicate apps:\", num_duplicate_apps, \"\\n\")"
   ]
  },
  {
   "cell_type": "markdown",
   "id": "5561217a",
   "metadata": {},
   "source": [
    "Applying the `find_duplicates()` function to the `App` column of the Google Play Store dataset quantifies the number of duplicate application names.\n"
   ]
  },
  {
   "cell_type": "code",
   "execution_count": 11,
   "id": "37eb3c9f",
   "metadata": {},
   "outputs": [
    {
     "name": "stdout",
     "output_type": "stream",
     "text": [
      "Number of duplicate apps: 1181 \n",
      "\n"
     ]
    }
   ],
   "source": [
    "# Find all duplicate App names in the dataset\n",
    "find_duplicates(android, \"App\")"
   ]
  },
  {
   "cell_type": "markdown",
   "id": "190eea92",
   "metadata": {},
   "source": [
    "The result indicates 1,181 instances where application names are repeated. A sample of these duplicates is displayed below, showing multiple entries for applications such as `Box` and `Google My Business`.\n"
   ]
  },
  {
   "cell_type": "code",
   "execution_count": 12,
   "id": "6550549a",
   "metadata": {},
   "outputs": [
    {
     "data": {
      "text/html": [
       "<div>\n",
       "<style scoped>\n",
       "    .dataframe tbody tr th:only-of-type {\n",
       "        vertical-align: middle;\n",
       "    }\n",
       "\n",
       "    .dataframe tbody tr th {\n",
       "        vertical-align: top;\n",
       "    }\n",
       "\n",
       "    .dataframe thead th {\n",
       "        text-align: right;\n",
       "    }\n",
       "</style>\n",
       "<table border=\"1\" class=\"dataframe\">\n",
       "  <thead>\n",
       "    <tr style=\"text-align: right;\">\n",
       "      <th></th>\n",
       "      <th>App</th>\n",
       "      <th>Category</th>\n",
       "      <th>Rating</th>\n",
       "      <th>Reviews</th>\n",
       "      <th>Size</th>\n",
       "      <th>Installs</th>\n",
       "      <th>Type</th>\n",
       "      <th>Price</th>\n",
       "      <th>Content Rating</th>\n",
       "      <th>Genres</th>\n",
       "      <th>Last Updated</th>\n",
       "      <th>Current Ver</th>\n",
       "      <th>Android Ver</th>\n",
       "    </tr>\n",
       "  </thead>\n",
       "  <tbody>\n",
       "    <tr>\n",
       "      <th>229</th>\n",
       "      <td>Quick PDF Scanner + OCR FREE</td>\n",
       "      <td>BUSINESS</td>\n",
       "      <td>4.2</td>\n",
       "      <td>80805</td>\n",
       "      <td>Varies with device</td>\n",
       "      <td>5,000,000+</td>\n",
       "      <td>Free</td>\n",
       "      <td>0</td>\n",
       "      <td>Everyone</td>\n",
       "      <td>Business</td>\n",
       "      <td>February 26, 2018</td>\n",
       "      <td>Varies with device</td>\n",
       "      <td>4.0.3 and up</td>\n",
       "    </tr>\n",
       "    <tr>\n",
       "      <th>236</th>\n",
       "      <td>Box</td>\n",
       "      <td>BUSINESS</td>\n",
       "      <td>4.2</td>\n",
       "      <td>159872</td>\n",
       "      <td>Varies with device</td>\n",
       "      <td>10,000,000+</td>\n",
       "      <td>Free</td>\n",
       "      <td>0</td>\n",
       "      <td>Everyone</td>\n",
       "      <td>Business</td>\n",
       "      <td>July 31, 2018</td>\n",
       "      <td>Varies with device</td>\n",
       "      <td>Varies with device</td>\n",
       "    </tr>\n",
       "    <tr>\n",
       "      <th>239</th>\n",
       "      <td>Google My Business</td>\n",
       "      <td>BUSINESS</td>\n",
       "      <td>4.4</td>\n",
       "      <td>70991</td>\n",
       "      <td>Varies with device</td>\n",
       "      <td>5,000,000+</td>\n",
       "      <td>Free</td>\n",
       "      <td>0</td>\n",
       "      <td>Everyone</td>\n",
       "      <td>Business</td>\n",
       "      <td>July 24, 2018</td>\n",
       "      <td>2.19.0.204537701</td>\n",
       "      <td>4.4 and up</td>\n",
       "    </tr>\n",
       "    <tr>\n",
       "      <th>256</th>\n",
       "      <td>ZOOM Cloud Meetings</td>\n",
       "      <td>BUSINESS</td>\n",
       "      <td>4.4</td>\n",
       "      <td>31614</td>\n",
       "      <td>37M</td>\n",
       "      <td>10,000,000+</td>\n",
       "      <td>Free</td>\n",
       "      <td>0</td>\n",
       "      <td>Everyone</td>\n",
       "      <td>Business</td>\n",
       "      <td>July 20, 2018</td>\n",
       "      <td>4.1.28165.0716</td>\n",
       "      <td>4.0 and up</td>\n",
       "    </tr>\n",
       "    <tr>\n",
       "      <th>261</th>\n",
       "      <td>join.me - Simple Meetings</td>\n",
       "      <td>BUSINESS</td>\n",
       "      <td>4.0</td>\n",
       "      <td>6989</td>\n",
       "      <td>Varies with device</td>\n",
       "      <td>1,000,000+</td>\n",
       "      <td>Free</td>\n",
       "      <td>0</td>\n",
       "      <td>Everyone</td>\n",
       "      <td>Business</td>\n",
       "      <td>July 16, 2018</td>\n",
       "      <td>4.3.0.508</td>\n",
       "      <td>4.4 and up</td>\n",
       "    </tr>\n",
       "    <tr>\n",
       "      <th>265</th>\n",
       "      <td>Box</td>\n",
       "      <td>BUSINESS</td>\n",
       "      <td>4.2</td>\n",
       "      <td>159872</td>\n",
       "      <td>Varies with device</td>\n",
       "      <td>10,000,000+</td>\n",
       "      <td>Free</td>\n",
       "      <td>0</td>\n",
       "      <td>Everyone</td>\n",
       "      <td>Business</td>\n",
       "      <td>July 31, 2018</td>\n",
       "      <td>Varies with device</td>\n",
       "      <td>Varies with device</td>\n",
       "    </tr>\n",
       "    <tr>\n",
       "      <th>266</th>\n",
       "      <td>Zenefits</td>\n",
       "      <td>BUSINESS</td>\n",
       "      <td>4.2</td>\n",
       "      <td>296</td>\n",
       "      <td>14M</td>\n",
       "      <td>50,000+</td>\n",
       "      <td>Free</td>\n",
       "      <td>0</td>\n",
       "      <td>Everyone</td>\n",
       "      <td>Business</td>\n",
       "      <td>June 15, 2018</td>\n",
       "      <td>3.2.1</td>\n",
       "      <td>4.1 and up</td>\n",
       "    </tr>\n",
       "    <tr>\n",
       "      <th>267</th>\n",
       "      <td>Google Ads</td>\n",
       "      <td>BUSINESS</td>\n",
       "      <td>4.3</td>\n",
       "      <td>29313</td>\n",
       "      <td>20M</td>\n",
       "      <td>5,000,000+</td>\n",
       "      <td>Free</td>\n",
       "      <td>0</td>\n",
       "      <td>Everyone</td>\n",
       "      <td>Business</td>\n",
       "      <td>July 30, 2018</td>\n",
       "      <td>1.12.0</td>\n",
       "      <td>4.0.3 and up</td>\n",
       "    </tr>\n",
       "    <tr>\n",
       "      <th>268</th>\n",
       "      <td>Google My Business</td>\n",
       "      <td>BUSINESS</td>\n",
       "      <td>4.4</td>\n",
       "      <td>70991</td>\n",
       "      <td>Varies with device</td>\n",
       "      <td>5,000,000+</td>\n",
       "      <td>Free</td>\n",
       "      <td>0</td>\n",
       "      <td>Everyone</td>\n",
       "      <td>Business</td>\n",
       "      <td>July 24, 2018</td>\n",
       "      <td>2.19.0.204537701</td>\n",
       "      <td>4.4 and up</td>\n",
       "    </tr>\n",
       "    <tr>\n",
       "      <th>269</th>\n",
       "      <td>Slack</td>\n",
       "      <td>BUSINESS</td>\n",
       "      <td>4.4</td>\n",
       "      <td>51507</td>\n",
       "      <td>Varies with device</td>\n",
       "      <td>5,000,000+</td>\n",
       "      <td>Free</td>\n",
       "      <td>0</td>\n",
       "      <td>Everyone</td>\n",
       "      <td>Business</td>\n",
       "      <td>August 2, 2018</td>\n",
       "      <td>Varies with device</td>\n",
       "      <td>Varies with device</td>\n",
       "    </tr>\n",
       "    <tr>\n",
       "      <th>270</th>\n",
       "      <td>FreshBooks Classic</td>\n",
       "      <td>BUSINESS</td>\n",
       "      <td>4.1</td>\n",
       "      <td>1802</td>\n",
       "      <td>26M</td>\n",
       "      <td>100,000+</td>\n",
       "      <td>Free</td>\n",
       "      <td>0</td>\n",
       "      <td>Everyone</td>\n",
       "      <td>Business</td>\n",
       "      <td>April 18, 2018</td>\n",
       "      <td>1.7.14</td>\n",
       "      <td>4.2 and up</td>\n",
       "    </tr>\n",
       "    <tr>\n",
       "      <th>271</th>\n",
       "      <td>Insightly CRM</td>\n",
       "      <td>BUSINESS</td>\n",
       "      <td>3.8</td>\n",
       "      <td>1383</td>\n",
       "      <td>51M</td>\n",
       "      <td>100,000+</td>\n",
       "      <td>Free</td>\n",
       "      <td>0</td>\n",
       "      <td>Everyone</td>\n",
       "      <td>Business</td>\n",
       "      <td>July 12, 2018</td>\n",
       "      <td>3.24.1</td>\n",
       "      <td>5.0 and up</td>\n",
       "    </tr>\n",
       "    <tr>\n",
       "      <th>272</th>\n",
       "      <td>QuickBooks Accounting: Invoicing &amp; Expenses</td>\n",
       "      <td>BUSINESS</td>\n",
       "      <td>4.3</td>\n",
       "      <td>23175</td>\n",
       "      <td>41M</td>\n",
       "      <td>1,000,000+</td>\n",
       "      <td>Free</td>\n",
       "      <td>0</td>\n",
       "      <td>Everyone</td>\n",
       "      <td>Business</td>\n",
       "      <td>July 13, 2018</td>\n",
       "      <td>18.7</td>\n",
       "      <td>4.1 and up</td>\n",
       "    </tr>\n",
       "    <tr>\n",
       "      <th>273</th>\n",
       "      <td>HipChat - Chat Built for Teams</td>\n",
       "      <td>BUSINESS</td>\n",
       "      <td>3.8</td>\n",
       "      <td>5868</td>\n",
       "      <td>20M</td>\n",
       "      <td>500,000+</td>\n",
       "      <td>Free</td>\n",
       "      <td>0</td>\n",
       "      <td>Everyone</td>\n",
       "      <td>Business</td>\n",
       "      <td>July 3, 2018</td>\n",
       "      <td>3.19.005</td>\n",
       "      <td>4.1 and up</td>\n",
       "    </tr>\n",
       "    <tr>\n",
       "      <th>274</th>\n",
       "      <td>Xero Accounting Software</td>\n",
       "      <td>BUSINESS</td>\n",
       "      <td>3.5</td>\n",
       "      <td>2111</td>\n",
       "      <td>Varies with device</td>\n",
       "      <td>100,000+</td>\n",
       "      <td>Free</td>\n",
       "      <td>0</td>\n",
       "      <td>Everyone</td>\n",
       "      <td>Business</td>\n",
       "      <td>July 30, 2018</td>\n",
       "      <td>Varies with device</td>\n",
       "      <td>Varies with device</td>\n",
       "    </tr>\n",
       "  </tbody>\n",
       "</table>\n",
       "</div>"
      ],
      "text/plain": [
       "                                             App  Category  Rating Reviews  \\\n",
       "229                 Quick PDF Scanner + OCR FREE  BUSINESS     4.2   80805   \n",
       "236                                          Box  BUSINESS     4.2  159872   \n",
       "239                           Google My Business  BUSINESS     4.4   70991   \n",
       "256                          ZOOM Cloud Meetings  BUSINESS     4.4   31614   \n",
       "261                    join.me - Simple Meetings  BUSINESS     4.0    6989   \n",
       "265                                          Box  BUSINESS     4.2  159872   \n",
       "266                                     Zenefits  BUSINESS     4.2     296   \n",
       "267                                   Google Ads  BUSINESS     4.3   29313   \n",
       "268                           Google My Business  BUSINESS     4.4   70991   \n",
       "269                                        Slack  BUSINESS     4.4   51507   \n",
       "270                           FreshBooks Classic  BUSINESS     4.1    1802   \n",
       "271                                Insightly CRM  BUSINESS     3.8    1383   \n",
       "272  QuickBooks Accounting: Invoicing & Expenses  BUSINESS     4.3   23175   \n",
       "273               HipChat - Chat Built for Teams  BUSINESS     3.8    5868   \n",
       "274                     Xero Accounting Software  BUSINESS     3.5    2111   \n",
       "\n",
       "                   Size     Installs  Type Price Content Rating    Genres  \\\n",
       "229  Varies with device   5,000,000+  Free     0       Everyone  Business   \n",
       "236  Varies with device  10,000,000+  Free     0       Everyone  Business   \n",
       "239  Varies with device   5,000,000+  Free     0       Everyone  Business   \n",
       "256                 37M  10,000,000+  Free     0       Everyone  Business   \n",
       "261  Varies with device   1,000,000+  Free     0       Everyone  Business   \n",
       "265  Varies with device  10,000,000+  Free     0       Everyone  Business   \n",
       "266                 14M      50,000+  Free     0       Everyone  Business   \n",
       "267                 20M   5,000,000+  Free     0       Everyone  Business   \n",
       "268  Varies with device   5,000,000+  Free     0       Everyone  Business   \n",
       "269  Varies with device   5,000,000+  Free     0       Everyone  Business   \n",
       "270                 26M     100,000+  Free     0       Everyone  Business   \n",
       "271                 51M     100,000+  Free     0       Everyone  Business   \n",
       "272                 41M   1,000,000+  Free     0       Everyone  Business   \n",
       "273                 20M     500,000+  Free     0       Everyone  Business   \n",
       "274  Varies with device     100,000+  Free     0       Everyone  Business   \n",
       "\n",
       "          Last Updated         Current Ver         Android Ver  \n",
       "229  February 26, 2018  Varies with device        4.0.3 and up  \n",
       "236      July 31, 2018  Varies with device  Varies with device  \n",
       "239      July 24, 2018    2.19.0.204537701          4.4 and up  \n",
       "256      July 20, 2018      4.1.28165.0716          4.0 and up  \n",
       "261      July 16, 2018           4.3.0.508          4.4 and up  \n",
       "265      July 31, 2018  Varies with device  Varies with device  \n",
       "266      June 15, 2018               3.2.1          4.1 and up  \n",
       "267      July 30, 2018              1.12.0        4.0.3 and up  \n",
       "268      July 24, 2018    2.19.0.204537701          4.4 and up  \n",
       "269     August 2, 2018  Varies with device  Varies with device  \n",
       "270     April 18, 2018              1.7.14          4.2 and up  \n",
       "271      July 12, 2018              3.24.1          5.0 and up  \n",
       "272      July 13, 2018                18.7          4.1 and up  \n",
       "273       July 3, 2018            3.19.005          4.1 and up  \n",
       "274      July 30, 2018  Varies with device  Varies with device  "
      ]
     },
     "execution_count": 12,
     "metadata": {},
     "output_type": "execute_result"
    }
   ],
   "source": [
    "# Display the first 15 rows in the dataframe of duplicate applications\n",
    "android_duplicates = android[android.duplicated(subset=\"App\")]\n",
    "android_duplicates.head(15)"
   ]
  },
  {
   "cell_type": "markdown",
   "id": "6441658e",
   "metadata": {},
   "source": [
    "The removal of duplicate data is essential to prevent bias and ensure the accuracy of subsequent analyses. For this analysis, the strategy for deduplication involves retaining the entry with the highest number of reviews. This approach assumes that a higher review count correlates with the most recent data capture for that application.\n",
    "\n",
    "The \"Instagram\" entries are used as a reference to illustrate this deduplication logic:\n"
   ]
  },
  {
   "cell_type": "code",
   "execution_count": 13,
   "id": "eb82dca9",
   "metadata": {},
   "outputs": [
    {
     "data": {
      "text/html": [
       "<div>\n",
       "<style scoped>\n",
       "    .dataframe tbody tr th:only-of-type {\n",
       "        vertical-align: middle;\n",
       "    }\n",
       "\n",
       "    .dataframe tbody tr th {\n",
       "        vertical-align: top;\n",
       "    }\n",
       "\n",
       "    .dataframe thead th {\n",
       "        text-align: right;\n",
       "    }\n",
       "</style>\n",
       "<table border=\"1\" class=\"dataframe\">\n",
       "  <thead>\n",
       "    <tr style=\"text-align: right;\">\n",
       "      <th></th>\n",
       "      <th>App</th>\n",
       "      <th>Category</th>\n",
       "      <th>Rating</th>\n",
       "      <th>Reviews</th>\n",
       "      <th>Size</th>\n",
       "      <th>Installs</th>\n",
       "      <th>Type</th>\n",
       "      <th>Price</th>\n",
       "      <th>Content Rating</th>\n",
       "      <th>Genres</th>\n",
       "      <th>Last Updated</th>\n",
       "      <th>Current Ver</th>\n",
       "      <th>Android Ver</th>\n",
       "    </tr>\n",
       "  </thead>\n",
       "  <tbody>\n",
       "    <tr>\n",
       "      <th>2545</th>\n",
       "      <td>Instagram</td>\n",
       "      <td>SOCIAL</td>\n",
       "      <td>4.5</td>\n",
       "      <td>66577313</td>\n",
       "      <td>Varies with device</td>\n",
       "      <td>1,000,000,000+</td>\n",
       "      <td>Free</td>\n",
       "      <td>0</td>\n",
       "      <td>Teen</td>\n",
       "      <td>Social</td>\n",
       "      <td>July 31, 2018</td>\n",
       "      <td>Varies with device</td>\n",
       "      <td>Varies with device</td>\n",
       "    </tr>\n",
       "    <tr>\n",
       "      <th>2604</th>\n",
       "      <td>Instagram</td>\n",
       "      <td>SOCIAL</td>\n",
       "      <td>4.5</td>\n",
       "      <td>66577446</td>\n",
       "      <td>Varies with device</td>\n",
       "      <td>1,000,000,000+</td>\n",
       "      <td>Free</td>\n",
       "      <td>0</td>\n",
       "      <td>Teen</td>\n",
       "      <td>Social</td>\n",
       "      <td>July 31, 2018</td>\n",
       "      <td>Varies with device</td>\n",
       "      <td>Varies with device</td>\n",
       "    </tr>\n",
       "    <tr>\n",
       "      <th>2611</th>\n",
       "      <td>Instagram</td>\n",
       "      <td>SOCIAL</td>\n",
       "      <td>4.5</td>\n",
       "      <td>66577313</td>\n",
       "      <td>Varies with device</td>\n",
       "      <td>1,000,000,000+</td>\n",
       "      <td>Free</td>\n",
       "      <td>0</td>\n",
       "      <td>Teen</td>\n",
       "      <td>Social</td>\n",
       "      <td>July 31, 2018</td>\n",
       "      <td>Varies with device</td>\n",
       "      <td>Varies with device</td>\n",
       "    </tr>\n",
       "    <tr>\n",
       "      <th>3909</th>\n",
       "      <td>Instagram</td>\n",
       "      <td>SOCIAL</td>\n",
       "      <td>4.5</td>\n",
       "      <td>66509917</td>\n",
       "      <td>Varies with device</td>\n",
       "      <td>1,000,000,000+</td>\n",
       "      <td>Free</td>\n",
       "      <td>0</td>\n",
       "      <td>Teen</td>\n",
       "      <td>Social</td>\n",
       "      <td>July 31, 2018</td>\n",
       "      <td>Varies with device</td>\n",
       "      <td>Varies with device</td>\n",
       "    </tr>\n",
       "  </tbody>\n",
       "</table>\n",
       "</div>"
      ],
      "text/plain": [
       "            App Category  Rating   Reviews                Size  \\\n",
       "2545  Instagram   SOCIAL     4.5  66577313  Varies with device   \n",
       "2604  Instagram   SOCIAL     4.5  66577446  Varies with device   \n",
       "2611  Instagram   SOCIAL     4.5  66577313  Varies with device   \n",
       "3909  Instagram   SOCIAL     4.5  66509917  Varies with device   \n",
       "\n",
       "            Installs  Type Price Content Rating  Genres   Last Updated  \\\n",
       "2545  1,000,000,000+  Free     0           Teen  Social  July 31, 2018   \n",
       "2604  1,000,000,000+  Free     0           Teen  Social  July 31, 2018   \n",
       "2611  1,000,000,000+  Free     0           Teen  Social  July 31, 2018   \n",
       "3909  1,000,000,000+  Free     0           Teen  Social  July 31, 2018   \n",
       "\n",
       "             Current Ver         Android Ver  \n",
       "2545  Varies with device  Varies with device  \n",
       "2604  Varies with device  Varies with device  \n",
       "2611  Varies with device  Varies with device  \n",
       "3909  Varies with device  Varies with device  "
      ]
     },
     "execution_count": 13,
     "metadata": {},
     "output_type": "execute_result"
    }
   ],
   "source": [
    "# Show the rows with \"Instagram\" as the App name\n",
    "instagram_android"
   ]
  },
  {
   "cell_type": "markdown",
   "id": "f631c2c2",
   "metadata": {},
   "source": [
    "Entry with index `2604` exhibits the highest review count among the \"Instagram\" duplicates. The objective is to retain this specific entry while removing the others.\n",
    "\n",
    "To implement this, the dataset is first sorted by `App` name and then by `Reviews` in descending order. Subsequently, `duplicated(subset='App')` identifies all but the first occurrence (which, due to sorting, is the one with the highest reviews) of each app as a duplicate.\n"
   ]
  },
  {
   "cell_type": "code",
   "execution_count": 14,
   "id": "aba72ebf",
   "metadata": {},
   "outputs": [],
   "source": [
    "# Sort the Google Play Store dataset by App name and Number of Reviews in descending order, mark all duplicates as 'True' and save in a Boolean Series\n",
    "android_sorted_by_reviews = android.sort_values(\n",
    "    by=[\"App\", \"Reviews\"], ascending=False\n",
    ").duplicated(subset=\"App\")"
   ]
  },
  {
   "cell_type": "markdown",
   "id": "24f7c358",
   "metadata": {},
   "source": [
    "The identified duplicates (those not having the highest review count) are then removed. The DataFrame is subsequently re-sorted by its original index.\n"
   ]
  },
  {
   "cell_type": "code",
   "execution_count": 15,
   "id": "0267afb0",
   "metadata": {},
   "outputs": [],
   "source": [
    "# Remove all duplicate apps except the one with the highest number of reviews, and sort the DataFrame by the row index\n",
    "android_clean = android.loc[~android_sorted_by_reviews].sort_index()"
   ]
  },
  {
   "cell_type": "markdown",
   "id": "85f75b86",
   "metadata": {},
   "source": [
    "To verify the deduplication for \"Instagram,\" the cleaned dataset is filtered for this application:\n"
   ]
  },
  {
   "cell_type": "code",
   "execution_count": 16,
   "id": "9f04af22",
   "metadata": {},
   "outputs": [
    {
     "data": {
      "text/html": [
       "<div>\n",
       "<style scoped>\n",
       "    .dataframe tbody tr th:only-of-type {\n",
       "        vertical-align: middle;\n",
       "    }\n",
       "\n",
       "    .dataframe tbody tr th {\n",
       "        vertical-align: top;\n",
       "    }\n",
       "\n",
       "    .dataframe thead th {\n",
       "        text-align: right;\n",
       "    }\n",
       "</style>\n",
       "<table border=\"1\" class=\"dataframe\">\n",
       "  <thead>\n",
       "    <tr style=\"text-align: right;\">\n",
       "      <th></th>\n",
       "      <th>App</th>\n",
       "      <th>Category</th>\n",
       "      <th>Rating</th>\n",
       "      <th>Reviews</th>\n",
       "      <th>Size</th>\n",
       "      <th>Installs</th>\n",
       "      <th>Type</th>\n",
       "      <th>Price</th>\n",
       "      <th>Content Rating</th>\n",
       "      <th>Genres</th>\n",
       "      <th>Last Updated</th>\n",
       "      <th>Current Ver</th>\n",
       "      <th>Android Ver</th>\n",
       "    </tr>\n",
       "  </thead>\n",
       "  <tbody>\n",
       "    <tr>\n",
       "      <th>2604</th>\n",
       "      <td>Instagram</td>\n",
       "      <td>SOCIAL</td>\n",
       "      <td>4.5</td>\n",
       "      <td>66577446</td>\n",
       "      <td>Varies with device</td>\n",
       "      <td>1,000,000,000+</td>\n",
       "      <td>Free</td>\n",
       "      <td>0</td>\n",
       "      <td>Teen</td>\n",
       "      <td>Social</td>\n",
       "      <td>July 31, 2018</td>\n",
       "      <td>Varies with device</td>\n",
       "      <td>Varies with device</td>\n",
       "    </tr>\n",
       "  </tbody>\n",
       "</table>\n",
       "</div>"
      ],
      "text/plain": [
       "            App Category  Rating   Reviews                Size  \\\n",
       "2604  Instagram   SOCIAL     4.5  66577446  Varies with device   \n",
       "\n",
       "            Installs  Type Price Content Rating  Genres   Last Updated  \\\n",
       "2604  1,000,000,000+  Free     0           Teen  Social  July 31, 2018   \n",
       "\n",
       "             Current Ver         Android Ver  \n",
       "2604  Varies with device  Varies with device  "
      ]
     },
     "execution_count": 16,
     "metadata": {},
     "output_type": "execute_result"
    }
   ],
   "source": [
    "# Find all rows in android_clean with \"Instagram\" as the value in the \"App\" column\n",
    "android_clean[android_clean[\"App\"] == \"Instagram\"]"
   ]
  },
  {
   "cell_type": "markdown",
   "id": "8a0d2521",
   "metadata": {},
   "source": [
    "As expected, only the entry with index `2604` for \"Instagram\" remains. To confirm that all 1,181 identified duplicates (not just for \"Instagram\") were correctly handled, the total number of rows before and after this operation is compared.\n",
    "\n",
    "Previously, 1,181 duplicate entries (excluding the first occurrence of each app name) were identified. This count can be used to verify the correct number of rows were removed.\n",
    "\n",
    "Below is the expected number of apps in the dataset after 1,181 duplicates were removed, as well as the number of applications in the `android_clean` dataset:\n"
   ]
  },
  {
   "cell_type": "code",
   "execution_count": 17,
   "id": "97fc152b",
   "metadata": {},
   "outputs": [
    {
     "name": "stdout",
     "output_type": "stream",
     "text": [
      "Expected number of rows: 9659\n",
      "Actual number of rows:  9659\n"
     ]
    }
   ],
   "source": [
    "# Expected number of rows in the dataset after duplicates have been removed\n",
    "print(\"Expected number of rows:\", android.shape[0] - android_duplicates.shape[0])\n",
    "\n",
    "# Number of rows in the android_clean dataset\n",
    "print(\"Actual number of rows: \", android_clean.shape[0])"
   ]
  },
  {
   "cell_type": "markdown",
   "id": "ff592920",
   "metadata": {},
   "source": [
    "Based on the output, the DataFrame now contains the anticipated number of applications, confirming the removal of the 1,181 duplicate entries from the original count (after the initial erroneous row deletion).\n",
    "\n",
    "Calling the `explore_data` function on the `android_clean` DataFrame should now reflect this updated row count of 9,659.\n"
   ]
  },
  {
   "cell_type": "code",
   "execution_count": 18,
   "id": "f0586dbe",
   "metadata": {},
   "outputs": [
    {
     "data": {
      "text/html": [
       "<div>\n",
       "<style scoped>\n",
       "    .dataframe tbody tr th:only-of-type {\n",
       "        vertical-align: middle;\n",
       "    }\n",
       "\n",
       "    .dataframe tbody tr th {\n",
       "        vertical-align: top;\n",
       "    }\n",
       "\n",
       "    .dataframe thead th {\n",
       "        text-align: right;\n",
       "    }\n",
       "</style>\n",
       "<table border=\"1\" class=\"dataframe\">\n",
       "  <thead>\n",
       "    <tr style=\"text-align: right;\">\n",
       "      <th></th>\n",
       "      <th>App</th>\n",
       "      <th>Category</th>\n",
       "      <th>Rating</th>\n",
       "      <th>Reviews</th>\n",
       "      <th>Size</th>\n",
       "      <th>Installs</th>\n",
       "      <th>Type</th>\n",
       "      <th>Price</th>\n",
       "      <th>Content Rating</th>\n",
       "      <th>Genres</th>\n",
       "      <th>Last Updated</th>\n",
       "      <th>Current Ver</th>\n",
       "      <th>Android Ver</th>\n",
       "    </tr>\n",
       "  </thead>\n",
       "  <tbody>\n",
       "    <tr>\n",
       "      <th>0</th>\n",
       "      <td>Photo Editor &amp; Candy Camera &amp; Grid &amp; ScrapBook</td>\n",
       "      <td>ART_AND_DESIGN</td>\n",
       "      <td>4.1</td>\n",
       "      <td>159</td>\n",
       "      <td>19M</td>\n",
       "      <td>10,000+</td>\n",
       "      <td>Free</td>\n",
       "      <td>0</td>\n",
       "      <td>Everyone</td>\n",
       "      <td>Art &amp; Design</td>\n",
       "      <td>January 7, 2018</td>\n",
       "      <td>1.0.0</td>\n",
       "      <td>4.0.3 and up</td>\n",
       "    </tr>\n",
       "    <tr>\n",
       "      <th>2</th>\n",
       "      <td>U Launcher Lite – FREE Live Cool Themes, Hide ...</td>\n",
       "      <td>ART_AND_DESIGN</td>\n",
       "      <td>4.7</td>\n",
       "      <td>87510</td>\n",
       "      <td>8.7M</td>\n",
       "      <td>5,000,000+</td>\n",
       "      <td>Free</td>\n",
       "      <td>0</td>\n",
       "      <td>Everyone</td>\n",
       "      <td>Art &amp; Design</td>\n",
       "      <td>August 1, 2018</td>\n",
       "      <td>1.2.4</td>\n",
       "      <td>4.0.3 and up</td>\n",
       "    </tr>\n",
       "    <tr>\n",
       "      <th>3</th>\n",
       "      <td>Sketch - Draw &amp; Paint</td>\n",
       "      <td>ART_AND_DESIGN</td>\n",
       "      <td>4.5</td>\n",
       "      <td>215644</td>\n",
       "      <td>25M</td>\n",
       "      <td>50,000,000+</td>\n",
       "      <td>Free</td>\n",
       "      <td>0</td>\n",
       "      <td>Teen</td>\n",
       "      <td>Art &amp; Design</td>\n",
       "      <td>June 8, 2018</td>\n",
       "      <td>Varies with device</td>\n",
       "      <td>4.2 and up</td>\n",
       "    </tr>\n",
       "  </tbody>\n",
       "</table>\n",
       "</div>"
      ],
      "text/plain": [
       "                                                 App        Category  Rating  \\\n",
       "0     Photo Editor & Candy Camera & Grid & ScrapBook  ART_AND_DESIGN     4.1   \n",
       "2  U Launcher Lite – FREE Live Cool Themes, Hide ...  ART_AND_DESIGN     4.7   \n",
       "3                              Sketch - Draw & Paint  ART_AND_DESIGN     4.5   \n",
       "\n",
       "  Reviews  Size     Installs  Type Price Content Rating        Genres  \\\n",
       "0     159   19M      10,000+  Free     0       Everyone  Art & Design   \n",
       "2   87510  8.7M   5,000,000+  Free     0       Everyone  Art & Design   \n",
       "3  215644   25M  50,000,000+  Free     0           Teen  Art & Design   \n",
       "\n",
       "      Last Updated         Current Ver   Android Ver  \n",
       "0  January 7, 2018               1.0.0  4.0.3 and up  \n",
       "2   August 1, 2018               1.2.4  4.0.3 and up  \n",
       "3     June 8, 2018  Varies with device    4.2 and up  "
      ]
     },
     "metadata": {},
     "output_type": "display_data"
    },
    {
     "name": "stdout",
     "output_type": "stream",
     "text": [
      "Number of rows:  9659\n",
      "Number of columns:  13\n"
     ]
    }
   ],
   "source": [
    "explore_data(android_clean, 3, True)"
   ]
  },
  {
   "cell_type": "markdown",
   "id": "495890e1",
   "metadata": {},
   "source": [
    "The duplicates have successfully been removed from the Google Play Store dataset.\n"
   ]
  },
  {
   "cell_type": "markdown",
   "id": "e4c1a656",
   "metadata": {},
   "source": [
    "#### iOS App Store\n"
   ]
  },
  {
   "cell_type": "markdown",
   "id": "fcc0767a",
   "metadata": {},
   "source": [
    "For the iOS App Store dataset, duplicate entries are checked using the `id` column, which is expected to be a unique identifier for each application:\n"
   ]
  },
  {
   "cell_type": "code",
   "execution_count": 19,
   "id": "74d2660b",
   "metadata": {},
   "outputs": [
    {
     "name": "stdout",
     "output_type": "stream",
     "text": [
      "Number of duplicate apps: 0 \n",
      "\n"
     ]
    }
   ],
   "source": [
    "# Find all duplicates IDs in the dataset\n",
    "find_duplicates(ios, \"id\")"
   ]
  },
  {
   "cell_type": "markdown",
   "id": "f2195acb",
   "metadata": {},
   "source": [
    "The output indicates zero duplicate `id` values in the App Store dataset; therefore, no deduplication steps are required for this dataset based on application ID.\n"
   ]
  },
  {
   "cell_type": "markdown",
   "id": "2d0bc381",
   "metadata": {},
   "source": [
    "### Removing non-English Apps\n"
   ]
  },
  {
   "cell_type": "markdown",
   "id": "5b3fc85c",
   "metadata": {},
   "source": [
    "As the company's application development is targeted towards an English-speaking audience, this analysis will be restricted to English-language applications.\n",
    "\n",
    "Both datasets contain applications with names that suggest a primary language other than English:\n"
   ]
  },
  {
   "cell_type": "code",
   "execution_count": 20,
   "id": "5ded9494",
   "metadata": {},
   "outputs": [
    {
     "data": {
      "text/plain": [
       "926                                     搜狐新闻—新闻热点资讯掌上阅读软件\n",
       "1279    Dictionary ( قاموس عربي / انجليزي + ودجيت التر...\n",
       "Name: track_name, dtype: object"
      ]
     },
     "metadata": {},
     "output_type": "display_data"
    },
    {
     "data": {
      "text/plain": [
       "5509    Wowkwis aq Ka'qaquj\n",
       "9116       PHARMAGUIDE (DZ)\n",
       "Name: App, dtype: object"
      ]
     },
     "metadata": {},
     "output_type": "display_data"
    }
   ],
   "source": [
    "display(ios.iloc[[814, 1094], 1])\n",
    "display(android_clean.iloc[[4412, 7940], 0])"
   ]
  },
  {
   "cell_type": "markdown",
   "id": "f2be1077",
   "metadata": {},
   "source": [
    "This section details the methodology for identifying and removing such non-English applications.\n",
    "\n",
    "The [American Standard Code for Information Interchange (ASCII)](https://en.wikipedia.org/wiki/ASCII) defines standard English characters within the ordinal range of 0 to 127.\n",
    "\n",
    "A function, `is_English()`, is defined below. This function iterates through each character of an input string, evaluating its Unicode code point to determine if it falls outside the standard ASCII range (0-127).\n"
   ]
  },
  {
   "cell_type": "code",
   "execution_count": 21,
   "id": "b425aa11",
   "metadata": {},
   "outputs": [],
   "source": [
    "def is_English(str):\n",
    "    \"\"\"Assesses if a string is predominantly English by counting non-ASCII characters. Returns `False` if the count of non-ASCII characters exceeds a threshold of three, `True` otherwise.\"\"\"\n",
    "    non_eng_chars = 0\n",
    "    # Iterate through each character in string\n",
    "    for char in str:\n",
    "        # Store the character's Unicode code point in a variable\n",
    "        char_unicode = ord(char)\n",
    "        # If there are more than 3 non-English characters in the string, return False\n",
    "        if char_unicode > 127:\n",
    "            non_eng_chars += 1\n",
    "            if non_eng_chars > 3:\n",
    "                return False\n",
    "    # Return True if there are three or less non-English characters in the string\n",
    "    return True"
   ]
  },
  {
   "cell_type": "markdown",
   "id": "0e573b85",
   "metadata": {},
   "source": [
    "To accommodate application names containing a limited number of special symbols (e.g., emojis, ™), which may still be targeted at English audiences, the function classifies an application as non-English only if its name contains more than three characters outside the ASCII range.\n",
    "\n",
    "The `is_English()` function is tested with sample inputs:\n"
   ]
  },
  {
   "cell_type": "code",
   "execution_count": 22,
   "id": "71cc1f15",
   "metadata": {},
   "outputs": [
    {
     "name": "stdout",
     "output_type": "stream",
     "text": [
      "True\n",
      "False\n",
      "True\n",
      "True\n"
     ]
    }
   ],
   "source": [
    "# Function test\n",
    "print(is_English(\"Instagram\"))\n",
    "print(is_English(\"爱奇艺PPS -《欢乐颂2》电视剧热播\"))\n",
    "print(is_English(\"Docs To Go™ Free Office Suite\"))\n",
    "print(is_English(\"Instachat 😜\"))"
   ]
  },
  {
   "cell_type": "markdown",
   "id": "8646f698",
   "metadata": {},
   "source": [
    "The `is_English()` function is now applied to filter the `App` names in the Android dataset and `track_name` in the iOS dataset. Rows where the function returns `False` (indicating likely non-English app names) are removed.\n"
   ]
  },
  {
   "cell_type": "code",
   "execution_count": 23,
   "id": "2719d71c",
   "metadata": {},
   "outputs": [
    {
     "name": "stdout",
     "output_type": "stream",
     "text": [
      "Google Play Store - English Apps:\n"
     ]
    },
    {
     "data": {
      "text/html": [
       "<div>\n",
       "<style scoped>\n",
       "    .dataframe tbody tr th:only-of-type {\n",
       "        vertical-align: middle;\n",
       "    }\n",
       "\n",
       "    .dataframe tbody tr th {\n",
       "        vertical-align: top;\n",
       "    }\n",
       "\n",
       "    .dataframe thead th {\n",
       "        text-align: right;\n",
       "    }\n",
       "</style>\n",
       "<table border=\"1\" class=\"dataframe\">\n",
       "  <thead>\n",
       "    <tr style=\"text-align: right;\">\n",
       "      <th></th>\n",
       "      <th>App</th>\n",
       "      <th>Category</th>\n",
       "      <th>Rating</th>\n",
       "      <th>Reviews</th>\n",
       "      <th>Size</th>\n",
       "      <th>Installs</th>\n",
       "      <th>Type</th>\n",
       "      <th>Price</th>\n",
       "      <th>Content Rating</th>\n",
       "      <th>Genres</th>\n",
       "      <th>Last Updated</th>\n",
       "      <th>Current Ver</th>\n",
       "      <th>Android Ver</th>\n",
       "    </tr>\n",
       "  </thead>\n",
       "  <tbody>\n",
       "    <tr>\n",
       "      <th>0</th>\n",
       "      <td>Photo Editor &amp; Candy Camera &amp; Grid &amp; ScrapBook</td>\n",
       "      <td>ART_AND_DESIGN</td>\n",
       "      <td>4.1</td>\n",
       "      <td>159</td>\n",
       "      <td>19M</td>\n",
       "      <td>10,000+</td>\n",
       "      <td>Free</td>\n",
       "      <td>0</td>\n",
       "      <td>Everyone</td>\n",
       "      <td>Art &amp; Design</td>\n",
       "      <td>January 7, 2018</td>\n",
       "      <td>1.0.0</td>\n",
       "      <td>4.0.3 and up</td>\n",
       "    </tr>\n",
       "    <tr>\n",
       "      <th>2</th>\n",
       "      <td>U Launcher Lite – FREE Live Cool Themes, Hide ...</td>\n",
       "      <td>ART_AND_DESIGN</td>\n",
       "      <td>4.7</td>\n",
       "      <td>87510</td>\n",
       "      <td>8.7M</td>\n",
       "      <td>5,000,000+</td>\n",
       "      <td>Free</td>\n",
       "      <td>0</td>\n",
       "      <td>Everyone</td>\n",
       "      <td>Art &amp; Design</td>\n",
       "      <td>August 1, 2018</td>\n",
       "      <td>1.2.4</td>\n",
       "      <td>4.0.3 and up</td>\n",
       "    </tr>\n",
       "    <tr>\n",
       "      <th>3</th>\n",
       "      <td>Sketch - Draw &amp; Paint</td>\n",
       "      <td>ART_AND_DESIGN</td>\n",
       "      <td>4.5</td>\n",
       "      <td>215644</td>\n",
       "      <td>25M</td>\n",
       "      <td>50,000,000+</td>\n",
       "      <td>Free</td>\n",
       "      <td>0</td>\n",
       "      <td>Teen</td>\n",
       "      <td>Art &amp; Design</td>\n",
       "      <td>June 8, 2018</td>\n",
       "      <td>Varies with device</td>\n",
       "      <td>4.2 and up</td>\n",
       "    </tr>\n",
       "  </tbody>\n",
       "</table>\n",
       "</div>"
      ],
      "text/plain": [
       "                                                 App        Category  Rating  \\\n",
       "0     Photo Editor & Candy Camera & Grid & ScrapBook  ART_AND_DESIGN     4.1   \n",
       "2  U Launcher Lite – FREE Live Cool Themes, Hide ...  ART_AND_DESIGN     4.7   \n",
       "3                              Sketch - Draw & Paint  ART_AND_DESIGN     4.5   \n",
       "\n",
       "  Reviews  Size     Installs  Type Price Content Rating        Genres  \\\n",
       "0     159   19M      10,000+  Free     0       Everyone  Art & Design   \n",
       "2   87510  8.7M   5,000,000+  Free     0       Everyone  Art & Design   \n",
       "3  215644   25M  50,000,000+  Free     0           Teen  Art & Design   \n",
       "\n",
       "      Last Updated         Current Ver   Android Ver  \n",
       "0  January 7, 2018               1.0.0  4.0.3 and up  \n",
       "2   August 1, 2018               1.2.4  4.0.3 and up  \n",
       "3     June 8, 2018  Varies with device    4.2 and up  "
      ]
     },
     "metadata": {},
     "output_type": "display_data"
    },
    {
     "name": "stdout",
     "output_type": "stream",
     "text": [
      "Number of rows:  9614\n",
      "Number of columns:  13\n",
      "\n",
      "App Store - English Apps:\n"
     ]
    },
    {
     "data": {
      "text/html": [
       "<div>\n",
       "<style scoped>\n",
       "    .dataframe tbody tr th:only-of-type {\n",
       "        vertical-align: middle;\n",
       "    }\n",
       "\n",
       "    .dataframe tbody tr th {\n",
       "        vertical-align: top;\n",
       "    }\n",
       "\n",
       "    .dataframe thead th {\n",
       "        text-align: right;\n",
       "    }\n",
       "</style>\n",
       "<table border=\"1\" class=\"dataframe\">\n",
       "  <thead>\n",
       "    <tr style=\"text-align: right;\">\n",
       "      <th></th>\n",
       "      <th>id</th>\n",
       "      <th>track_name</th>\n",
       "      <th>size_bytes</th>\n",
       "      <th>currency</th>\n",
       "      <th>price</th>\n",
       "      <th>rating_count_tot</th>\n",
       "      <th>rating_count_ver</th>\n",
       "      <th>user_rating</th>\n",
       "      <th>user_rating_ver</th>\n",
       "      <th>ver</th>\n",
       "      <th>cont_rating</th>\n",
       "      <th>prime_genre</th>\n",
       "      <th>sup_devices.num</th>\n",
       "      <th>ipadSc_urls.num</th>\n",
       "      <th>lang.num</th>\n",
       "      <th>vpp_lic</th>\n",
       "    </tr>\n",
       "  </thead>\n",
       "  <tbody>\n",
       "    <tr>\n",
       "      <th>1</th>\n",
       "      <td>281656475</td>\n",
       "      <td>PAC-MAN Premium</td>\n",
       "      <td>100788224</td>\n",
       "      <td>USD</td>\n",
       "      <td>3.99</td>\n",
       "      <td>21292</td>\n",
       "      <td>26</td>\n",
       "      <td>4.0</td>\n",
       "      <td>4.5</td>\n",
       "      <td>6.3.5</td>\n",
       "      <td>4+</td>\n",
       "      <td>Games</td>\n",
       "      <td>38</td>\n",
       "      <td>5</td>\n",
       "      <td>10</td>\n",
       "      <td>1</td>\n",
       "    </tr>\n",
       "    <tr>\n",
       "      <th>2</th>\n",
       "      <td>281796108</td>\n",
       "      <td>Evernote - stay organized</td>\n",
       "      <td>158578688</td>\n",
       "      <td>USD</td>\n",
       "      <td>0.00</td>\n",
       "      <td>161065</td>\n",
       "      <td>26</td>\n",
       "      <td>4.0</td>\n",
       "      <td>3.5</td>\n",
       "      <td>8.2.2</td>\n",
       "      <td>4+</td>\n",
       "      <td>Productivity</td>\n",
       "      <td>37</td>\n",
       "      <td>5</td>\n",
       "      <td>23</td>\n",
       "      <td>1</td>\n",
       "    </tr>\n",
       "    <tr>\n",
       "      <th>3</th>\n",
       "      <td>281940292</td>\n",
       "      <td>WeatherBug - Local Weather, Radar, Maps, Alerts</td>\n",
       "      <td>100524032</td>\n",
       "      <td>USD</td>\n",
       "      <td>0.00</td>\n",
       "      <td>188583</td>\n",
       "      <td>2822</td>\n",
       "      <td>3.5</td>\n",
       "      <td>4.5</td>\n",
       "      <td>5.0.0</td>\n",
       "      <td>4+</td>\n",
       "      <td>Weather</td>\n",
       "      <td>37</td>\n",
       "      <td>5</td>\n",
       "      <td>3</td>\n",
       "      <td>1</td>\n",
       "    </tr>\n",
       "  </tbody>\n",
       "</table>\n",
       "</div>"
      ],
      "text/plain": [
       "          id                                       track_name  size_bytes  \\\n",
       "1  281656475                                  PAC-MAN Premium   100788224   \n",
       "2  281796108                        Evernote - stay organized   158578688   \n",
       "3  281940292  WeatherBug - Local Weather, Radar, Maps, Alerts   100524032   \n",
       "\n",
       "  currency  price  rating_count_tot  rating_count_ver  user_rating  \\\n",
       "1      USD   3.99             21292                26          4.0   \n",
       "2      USD   0.00            161065                26          4.0   \n",
       "3      USD   0.00            188583              2822          3.5   \n",
       "\n",
       "   user_rating_ver    ver cont_rating   prime_genre  sup_devices.num  \\\n",
       "1              4.5  6.3.5          4+         Games               38   \n",
       "2              3.5  8.2.2          4+  Productivity               37   \n",
       "3              4.5  5.0.0          4+       Weather               37   \n",
       "\n",
       "   ipadSc_urls.num  lang.num  vpp_lic  \n",
       "1                5        10        1  \n",
       "2                5        23        1  \n",
       "3                5         3        1  "
      ]
     },
     "metadata": {},
     "output_type": "display_data"
    },
    {
     "name": "stdout",
     "output_type": "stream",
     "text": [
      "Number of rows:  6183\n",
      "Number of columns:  16\n"
     ]
    }
   ],
   "source": [
    "# Remove non-ASCII characters from the Google Play Store dataset\n",
    "android_eng = android_clean[[is_English(app) for app in android_clean[\"App\"]]]\n",
    "\n",
    "# Remove non-ASCII characters from the iOS App Store dataset\n",
    "ios_eng = ios[[is_English(app) for app in ios[\"track_name\"]]]\n",
    "\n",
    "print(\"Google Play Store - English Apps:\")\n",
    "explore_data(android_eng, 3, True)\n",
    "print(\"\\nApp Store - English Apps:\")\n",
    "explore_data(ios_eng, 3, True)"
   ]
  },
  {
   "cell_type": "markdown",
   "id": "71b9e457",
   "metadata": {},
   "source": [
    "The Google Play Store dataset now has 9,614 apps, and the iOS App Store dataset has 6,183.\n"
   ]
  },
  {
   "cell_type": "markdown",
   "id": "05fb1fc6",
   "metadata": {},
   "source": [
    "### Removing non-Free Apps\n"
   ]
  },
  {
   "cell_type": "markdown",
   "id": "adecffa3",
   "metadata": {},
   "source": [
    "The concluding data cleaning procedure is the removal of paid applications, aligning with the company's exclusive focus on developing free-to-download mobile apps.\n"
   ]
  },
  {
   "cell_type": "markdown",
   "id": "c251995f",
   "metadata": {},
   "source": [
    "#### Google Play Store\n"
   ]
  },
  {
   "cell_type": "markdown",
   "id": "80f330a8",
   "metadata": {},
   "source": [
    "The Google Play Store dataset has two column labels that will be useful here, `Price` and `Type`. `Price` is the price of the app when the data was scraped, and an app's `Type` could be either `Paid` or `Free` depending on if it were a paid or free app.\n",
    "\n",
    "Although the `Type` column categorizes applications as `Paid` or `Free`, an inspection reveals instances where an application has a `Price` of `0` but is not designated as `Free` in the `Type` column:\n"
   ]
  },
  {
   "cell_type": "code",
   "execution_count": 24,
   "id": "30e835b2",
   "metadata": {},
   "outputs": [
    {
     "data": {
      "text/html": [
       "<div>\n",
       "<style scoped>\n",
       "    .dataframe tbody tr th:only-of-type {\n",
       "        vertical-align: middle;\n",
       "    }\n",
       "\n",
       "    .dataframe tbody tr th {\n",
       "        vertical-align: top;\n",
       "    }\n",
       "\n",
       "    .dataframe thead th {\n",
       "        text-align: right;\n",
       "    }\n",
       "</style>\n",
       "<table border=\"1\" class=\"dataframe\">\n",
       "  <thead>\n",
       "    <tr style=\"text-align: right;\">\n",
       "      <th></th>\n",
       "      <th>App</th>\n",
       "      <th>Category</th>\n",
       "      <th>Rating</th>\n",
       "      <th>Reviews</th>\n",
       "      <th>Size</th>\n",
       "      <th>Installs</th>\n",
       "      <th>Type</th>\n",
       "      <th>Price</th>\n",
       "      <th>Content Rating</th>\n",
       "      <th>Genres</th>\n",
       "      <th>Last Updated</th>\n",
       "      <th>Current Ver</th>\n",
       "      <th>Android Ver</th>\n",
       "    </tr>\n",
       "  </thead>\n",
       "  <tbody>\n",
       "    <tr>\n",
       "      <th>9148</th>\n",
       "      <td>Command &amp; Conquer: Rivals</td>\n",
       "      <td>FAMILY</td>\n",
       "      <td>NaN</td>\n",
       "      <td>0</td>\n",
       "      <td>Varies with device</td>\n",
       "      <td>0</td>\n",
       "      <td>NaN</td>\n",
       "      <td>0</td>\n",
       "      <td>Everyone 10+</td>\n",
       "      <td>Strategy</td>\n",
       "      <td>June 28, 2018</td>\n",
       "      <td>Varies with device</td>\n",
       "      <td>Varies with device</td>\n",
       "    </tr>\n",
       "  </tbody>\n",
       "</table>\n",
       "</div>"
      ],
      "text/plain": [
       "                            App Category  Rating Reviews                Size  \\\n",
       "9148  Command & Conquer: Rivals   FAMILY     NaN       0  Varies with device   \n",
       "\n",
       "     Installs Type Price Content Rating    Genres   Last Updated  \\\n",
       "9148        0  NaN     0   Everyone 10+  Strategy  June 28, 2018   \n",
       "\n",
       "             Current Ver         Android Ver  \n",
       "9148  Varies with device  Varies with device  "
      ]
     },
     "execution_count": 24,
     "metadata": {},
     "output_type": "execute_result"
    }
   ],
   "source": [
    "# Show apps from the Google Play Store dataset that have '0' as a value for 'Price' and do not have 'Free' as a value for 'Type'\n",
    "android_eng[~(android_eng[\"Type\"] == \"Free\") & (android_eng[\"Price\"] == \"0\")]"
   ]
  },
  {
   "cell_type": "markdown",
   "id": "e6181516",
   "metadata": {},
   "source": [
    "To ensure only genuinely free applications are retained and to handle such discrepancies, the Android dataset is filtered to include only those applications where the `Type` is `Free` and the `Price` is `'0'`.\n"
   ]
  },
  {
   "cell_type": "code",
   "execution_count": 25,
   "id": "45ba1370",
   "metadata": {},
   "outputs": [],
   "source": [
    "# Show apps from the Google Play Store dataset that have 'Free' and '0' values for 'Type' and 'Price'\n",
    "android_final = android_eng[\n",
    "    (android_eng[\"Type\"] == \"Free\") & (android_eng[\"Price\"] == \"0\")\n",
    "]"
   ]
  },
  {
   "cell_type": "markdown",
   "id": "e9462199",
   "metadata": {},
   "source": [
    "#### iOS App Store\n"
   ]
  },
  {
   "cell_type": "markdown",
   "id": "bdf1a895",
   "metadata": {},
   "source": [
    "For the iOS App Store dataset, the `price` column, indicating the application's price at the time of data collection, is used to filter out non-free applications. Applications with a `price` of `0.00` are retained.\n"
   ]
  },
  {
   "cell_type": "code",
   "execution_count": 26,
   "id": "1d280787",
   "metadata": {},
   "outputs": [],
   "source": [
    "# Show apps from the iOS App Store dataset that have '0.00' values for 'price'\n",
    "ios_final = ios_eng[ios_eng[\"price\"] == 0.00]"
   ]
  },
  {
   "cell_type": "markdown",
   "id": "48e58ff3",
   "metadata": {},
   "source": [
    "### Final Datasets\n"
   ]
  },
  {
   "cell_type": "markdown",
   "id": "7206af41",
   "metadata": {},
   "source": [
    "Following the comprehensive data cleaning procedures, the final, refined datasets for the Google Play Store and iOS App Store are presented below, along with their respective row counts.\n"
   ]
  },
  {
   "cell_type": "code",
   "execution_count": 27,
   "id": "2c0bb7fd",
   "metadata": {},
   "outputs": [
    {
     "name": "stdout",
     "output_type": "stream",
     "text": [
      "Google Play Store Free Apps: 8861\n"
     ]
    },
    {
     "data": {
      "text/html": [
       "<div>\n",
       "<style scoped>\n",
       "    .dataframe tbody tr th:only-of-type {\n",
       "        vertical-align: middle;\n",
       "    }\n",
       "\n",
       "    .dataframe tbody tr th {\n",
       "        vertical-align: top;\n",
       "    }\n",
       "\n",
       "    .dataframe thead th {\n",
       "        text-align: right;\n",
       "    }\n",
       "</style>\n",
       "<table border=\"1\" class=\"dataframe\">\n",
       "  <thead>\n",
       "    <tr style=\"text-align: right;\">\n",
       "      <th></th>\n",
       "      <th>App</th>\n",
       "      <th>Category</th>\n",
       "      <th>Rating</th>\n",
       "      <th>Reviews</th>\n",
       "      <th>Size</th>\n",
       "      <th>Installs</th>\n",
       "      <th>Type</th>\n",
       "      <th>Price</th>\n",
       "      <th>Content Rating</th>\n",
       "      <th>Genres</th>\n",
       "      <th>Last Updated</th>\n",
       "      <th>Current Ver</th>\n",
       "      <th>Android Ver</th>\n",
       "    </tr>\n",
       "  </thead>\n",
       "  <tbody>\n",
       "    <tr>\n",
       "      <th>0</th>\n",
       "      <td>Photo Editor &amp; Candy Camera &amp; Grid &amp; ScrapBook</td>\n",
       "      <td>ART_AND_DESIGN</td>\n",
       "      <td>4.1</td>\n",
       "      <td>159</td>\n",
       "      <td>19M</td>\n",
       "      <td>10,000+</td>\n",
       "      <td>Free</td>\n",
       "      <td>0</td>\n",
       "      <td>Everyone</td>\n",
       "      <td>Art &amp; Design</td>\n",
       "      <td>January 7, 2018</td>\n",
       "      <td>1.0.0</td>\n",
       "      <td>4.0.3 and up</td>\n",
       "    </tr>\n",
       "    <tr>\n",
       "      <th>2</th>\n",
       "      <td>U Launcher Lite – FREE Live Cool Themes, Hide ...</td>\n",
       "      <td>ART_AND_DESIGN</td>\n",
       "      <td>4.7</td>\n",
       "      <td>87510</td>\n",
       "      <td>8.7M</td>\n",
       "      <td>5,000,000+</td>\n",
       "      <td>Free</td>\n",
       "      <td>0</td>\n",
       "      <td>Everyone</td>\n",
       "      <td>Art &amp; Design</td>\n",
       "      <td>August 1, 2018</td>\n",
       "      <td>1.2.4</td>\n",
       "      <td>4.0.3 and up</td>\n",
       "    </tr>\n",
       "    <tr>\n",
       "      <th>3</th>\n",
       "      <td>Sketch - Draw &amp; Paint</td>\n",
       "      <td>ART_AND_DESIGN</td>\n",
       "      <td>4.5</td>\n",
       "      <td>215644</td>\n",
       "      <td>25M</td>\n",
       "      <td>50,000,000+</td>\n",
       "      <td>Free</td>\n",
       "      <td>0</td>\n",
       "      <td>Teen</td>\n",
       "      <td>Art &amp; Design</td>\n",
       "      <td>June 8, 2018</td>\n",
       "      <td>Varies with device</td>\n",
       "      <td>4.2 and up</td>\n",
       "    </tr>\n",
       "  </tbody>\n",
       "</table>\n",
       "</div>"
      ],
      "text/plain": [
       "                                                 App        Category  Rating  \\\n",
       "0     Photo Editor & Candy Camera & Grid & ScrapBook  ART_AND_DESIGN     4.1   \n",
       "2  U Launcher Lite – FREE Live Cool Themes, Hide ...  ART_AND_DESIGN     4.7   \n",
       "3                              Sketch - Draw & Paint  ART_AND_DESIGN     4.5   \n",
       "\n",
       "  Reviews  Size     Installs  Type Price Content Rating        Genres  \\\n",
       "0     159   19M      10,000+  Free     0       Everyone  Art & Design   \n",
       "2   87510  8.7M   5,000,000+  Free     0       Everyone  Art & Design   \n",
       "3  215644   25M  50,000,000+  Free     0           Teen  Art & Design   \n",
       "\n",
       "      Last Updated         Current Ver   Android Ver  \n",
       "0  January 7, 2018               1.0.0  4.0.3 and up  \n",
       "2   August 1, 2018               1.2.4  4.0.3 and up  \n",
       "3     June 8, 2018  Varies with device    4.2 and up  "
      ]
     },
     "metadata": {},
     "output_type": "display_data"
    },
    {
     "name": "stdout",
     "output_type": "stream",
     "text": [
      "\n",
      "iOS App Store Free Apps: 3222\n"
     ]
    },
    {
     "data": {
      "text/html": [
       "<div>\n",
       "<style scoped>\n",
       "    .dataframe tbody tr th:only-of-type {\n",
       "        vertical-align: middle;\n",
       "    }\n",
       "\n",
       "    .dataframe tbody tr th {\n",
       "        vertical-align: top;\n",
       "    }\n",
       "\n",
       "    .dataframe thead th {\n",
       "        text-align: right;\n",
       "    }\n",
       "</style>\n",
       "<table border=\"1\" class=\"dataframe\">\n",
       "  <thead>\n",
       "    <tr style=\"text-align: right;\">\n",
       "      <th></th>\n",
       "      <th>id</th>\n",
       "      <th>track_name</th>\n",
       "      <th>size_bytes</th>\n",
       "      <th>currency</th>\n",
       "      <th>price</th>\n",
       "      <th>rating_count_tot</th>\n",
       "      <th>rating_count_ver</th>\n",
       "      <th>user_rating</th>\n",
       "      <th>user_rating_ver</th>\n",
       "      <th>ver</th>\n",
       "      <th>cont_rating</th>\n",
       "      <th>prime_genre</th>\n",
       "      <th>sup_devices.num</th>\n",
       "      <th>ipadSc_urls.num</th>\n",
       "      <th>lang.num</th>\n",
       "      <th>vpp_lic</th>\n",
       "    </tr>\n",
       "  </thead>\n",
       "  <tbody>\n",
       "    <tr>\n",
       "      <th>2</th>\n",
       "      <td>281796108</td>\n",
       "      <td>Evernote - stay organized</td>\n",
       "      <td>158578688</td>\n",
       "      <td>USD</td>\n",
       "      <td>0.0</td>\n",
       "      <td>161065</td>\n",
       "      <td>26</td>\n",
       "      <td>4.0</td>\n",
       "      <td>3.5</td>\n",
       "      <td>8.2.2</td>\n",
       "      <td>4+</td>\n",
       "      <td>Productivity</td>\n",
       "      <td>37</td>\n",
       "      <td>5</td>\n",
       "      <td>23</td>\n",
       "      <td>1</td>\n",
       "    </tr>\n",
       "    <tr>\n",
       "      <th>3</th>\n",
       "      <td>281940292</td>\n",
       "      <td>WeatherBug - Local Weather, Radar, Maps, Alerts</td>\n",
       "      <td>100524032</td>\n",
       "      <td>USD</td>\n",
       "      <td>0.0</td>\n",
       "      <td>188583</td>\n",
       "      <td>2822</td>\n",
       "      <td>3.5</td>\n",
       "      <td>4.5</td>\n",
       "      <td>5.0.0</td>\n",
       "      <td>4+</td>\n",
       "      <td>Weather</td>\n",
       "      <td>37</td>\n",
       "      <td>5</td>\n",
       "      <td>3</td>\n",
       "      <td>1</td>\n",
       "    </tr>\n",
       "    <tr>\n",
       "      <th>4</th>\n",
       "      <td>282614216</td>\n",
       "      <td>eBay: Best App to Buy, Sell, Save! Online Shop...</td>\n",
       "      <td>128512000</td>\n",
       "      <td>USD</td>\n",
       "      <td>0.0</td>\n",
       "      <td>262241</td>\n",
       "      <td>649</td>\n",
       "      <td>4.0</td>\n",
       "      <td>4.5</td>\n",
       "      <td>5.10.0</td>\n",
       "      <td>12+</td>\n",
       "      <td>Shopping</td>\n",
       "      <td>37</td>\n",
       "      <td>5</td>\n",
       "      <td>9</td>\n",
       "      <td>1</td>\n",
       "    </tr>\n",
       "  </tbody>\n",
       "</table>\n",
       "</div>"
      ],
      "text/plain": [
       "          id                                         track_name  size_bytes  \\\n",
       "2  281796108                          Evernote - stay organized   158578688   \n",
       "3  281940292    WeatherBug - Local Weather, Radar, Maps, Alerts   100524032   \n",
       "4  282614216  eBay: Best App to Buy, Sell, Save! Online Shop...   128512000   \n",
       "\n",
       "  currency  price  rating_count_tot  rating_count_ver  user_rating  \\\n",
       "2      USD    0.0            161065                26          4.0   \n",
       "3      USD    0.0            188583              2822          3.5   \n",
       "4      USD    0.0            262241               649          4.0   \n",
       "\n",
       "   user_rating_ver     ver cont_rating   prime_genre  sup_devices.num  \\\n",
       "2              3.5   8.2.2          4+  Productivity               37   \n",
       "3              4.5   5.0.0          4+       Weather               37   \n",
       "4              4.5  5.10.0         12+      Shopping               37   \n",
       "\n",
       "   ipadSc_urls.num  lang.num  vpp_lic  \n",
       "2                5        23        1  \n",
       "3                5         3        1  \n",
       "4                5         9        1  "
      ]
     },
     "metadata": {},
     "output_type": "display_data"
    }
   ],
   "source": [
    "# Print the number of rows in the Google Play Store dataset and the first three rows\n",
    "print(\"Google Play Store Free Apps:\", android_final.shape[0])\n",
    "explore_data(android_final, 3)\n",
    "\n",
    "# Print the number of rows in the iOS App Store dataset and the first three rows\n",
    "print(\"\\niOS App Store Free Apps:\", ios_final.shape[0])\n",
    "explore_data(ios_final, 3)"
   ]
  },
  {
   "cell_type": "markdown",
   "id": "cd193653",
   "metadata": {},
   "source": [
    "The preceding data cleaning operations have addressed identified inaccuracies, duplicate entries, and filtered the datasets to align with the project's focus on English-language, free-to-download applications. The resulting datasets, `android_final` with 8,861 apps and `ios_final` with 3,222 apps, now provide a refined foundation. The next step involves selecting the specific columns from these datasets that will be instrumental for the upcoming analysis.\n"
   ]
  },
  {
   "cell_type": "markdown",
   "id": "fbdbe8dd",
   "metadata": {},
   "source": [
    "### Selecting Columns for Analysis\n"
   ]
  },
  {
   "cell_type": "markdown",
   "id": "d1c9b27d",
   "metadata": {},
   "source": [
    "To streamline the datasets for the upcoming analysis and focus only on relevant features, I will select a subset of columns from both the `android_final` and `ios_final` DataFrames. This also helps in optimizing memory usage and processing speed.\n"
   ]
  },
  {
   "cell_type": "markdown",
   "id": "a1c9d31f",
   "metadata": {},
   "source": [
    "Based on the project objectives, the following columns are deemed essential for the Google Play dataset: `['App', 'Category', 'Reviews', 'Installs', 'Genres']`.\n"
   ]
  },
  {
   "cell_type": "code",
   "execution_count": 28,
   "id": "7d3fc889",
   "metadata": {},
   "outputs": [
    {
     "data": {
      "text/html": [
       "<div>\n",
       "<style scoped>\n",
       "    .dataframe tbody tr th:only-of-type {\n",
       "        vertical-align: middle;\n",
       "    }\n",
       "\n",
       "    .dataframe tbody tr th {\n",
       "        vertical-align: top;\n",
       "    }\n",
       "\n",
       "    .dataframe thead th {\n",
       "        text-align: right;\n",
       "    }\n",
       "</style>\n",
       "<table border=\"1\" class=\"dataframe\">\n",
       "  <thead>\n",
       "    <tr style=\"text-align: right;\">\n",
       "      <th></th>\n",
       "      <th>App</th>\n",
       "      <th>Category</th>\n",
       "      <th>Reviews</th>\n",
       "      <th>Installs</th>\n",
       "      <th>Genres</th>\n",
       "    </tr>\n",
       "  </thead>\n",
       "  <tbody>\n",
       "    <tr>\n",
       "      <th>0</th>\n",
       "      <td>Photo Editor &amp; Candy Camera &amp; Grid &amp; ScrapBook</td>\n",
       "      <td>ART_AND_DESIGN</td>\n",
       "      <td>159</td>\n",
       "      <td>10,000+</td>\n",
       "      <td>Art &amp; Design</td>\n",
       "    </tr>\n",
       "    <tr>\n",
       "      <th>2</th>\n",
       "      <td>U Launcher Lite – FREE Live Cool Themes, Hide ...</td>\n",
       "      <td>ART_AND_DESIGN</td>\n",
       "      <td>87510</td>\n",
       "      <td>5,000,000+</td>\n",
       "      <td>Art &amp; Design</td>\n",
       "    </tr>\n",
       "    <tr>\n",
       "      <th>3</th>\n",
       "      <td>Sketch - Draw &amp; Paint</td>\n",
       "      <td>ART_AND_DESIGN</td>\n",
       "      <td>215644</td>\n",
       "      <td>50,000,000+</td>\n",
       "      <td>Art &amp; Design</td>\n",
       "    </tr>\n",
       "  </tbody>\n",
       "</table>\n",
       "</div>"
      ],
      "text/plain": [
       "                                                 App        Category Reviews  \\\n",
       "0     Photo Editor & Candy Camera & Grid & ScrapBook  ART_AND_DESIGN     159   \n",
       "2  U Launcher Lite – FREE Live Cool Themes, Hide ...  ART_AND_DESIGN   87510   \n",
       "3                              Sketch - Draw & Paint  ART_AND_DESIGN  215644   \n",
       "\n",
       "      Installs        Genres  \n",
       "0      10,000+  Art & Design  \n",
       "2   5,000,000+  Art & Design  \n",
       "3  50,000,000+  Art & Design  "
      ]
     },
     "metadata": {},
     "output_type": "display_data"
    },
    {
     "name": "stdout",
     "output_type": "stream",
     "text": [
      "Number of rows:  8861\n",
      "Number of columns:  5\n"
     ]
    }
   ],
   "source": [
    "# Select columns for android_final\n",
    "android_analytical_df = android_final[\n",
    "    [\"App\", \"Category\", \"Reviews\", \"Installs\", \"Genres\"]\n",
    "].copy()\n",
    "explore_data(android_analytical_df, 3, True)"
   ]
  },
  {
   "cell_type": "markdown",
   "id": "16d8253f",
   "metadata": {},
   "source": [
    "Similarly, for the iOS App Store dataset, the essential columns are: `['track_name', 'rating_count_tot', 'rating_count_ver', 'prime_genre']`.\n"
   ]
  },
  {
   "cell_type": "code",
   "execution_count": 29,
   "id": "50443059",
   "metadata": {},
   "outputs": [
    {
     "data": {
      "text/html": [
       "<div>\n",
       "<style scoped>\n",
       "    .dataframe tbody tr th:only-of-type {\n",
       "        vertical-align: middle;\n",
       "    }\n",
       "\n",
       "    .dataframe tbody tr th {\n",
       "        vertical-align: top;\n",
       "    }\n",
       "\n",
       "    .dataframe thead th {\n",
       "        text-align: right;\n",
       "    }\n",
       "</style>\n",
       "<table border=\"1\" class=\"dataframe\">\n",
       "  <thead>\n",
       "    <tr style=\"text-align: right;\">\n",
       "      <th></th>\n",
       "      <th>track_name</th>\n",
       "      <th>rating_count_tot</th>\n",
       "      <th>rating_count_ver</th>\n",
       "      <th>prime_genre</th>\n",
       "    </tr>\n",
       "  </thead>\n",
       "  <tbody>\n",
       "    <tr>\n",
       "      <th>2</th>\n",
       "      <td>Evernote - stay organized</td>\n",
       "      <td>161065</td>\n",
       "      <td>26</td>\n",
       "      <td>Productivity</td>\n",
       "    </tr>\n",
       "    <tr>\n",
       "      <th>3</th>\n",
       "      <td>WeatherBug - Local Weather, Radar, Maps, Alerts</td>\n",
       "      <td>188583</td>\n",
       "      <td>2822</td>\n",
       "      <td>Weather</td>\n",
       "    </tr>\n",
       "    <tr>\n",
       "      <th>4</th>\n",
       "      <td>eBay: Best App to Buy, Sell, Save! Online Shop...</td>\n",
       "      <td>262241</td>\n",
       "      <td>649</td>\n",
       "      <td>Shopping</td>\n",
       "    </tr>\n",
       "  </tbody>\n",
       "</table>\n",
       "</div>"
      ],
      "text/plain": [
       "                                          track_name  rating_count_tot  \\\n",
       "2                          Evernote - stay organized            161065   \n",
       "3    WeatherBug - Local Weather, Radar, Maps, Alerts            188583   \n",
       "4  eBay: Best App to Buy, Sell, Save! Online Shop...            262241   \n",
       "\n",
       "   rating_count_ver   prime_genre  \n",
       "2                26  Productivity  \n",
       "3              2822       Weather  \n",
       "4               649      Shopping  "
      ]
     },
     "metadata": {},
     "output_type": "display_data"
    },
    {
     "name": "stdout",
     "output_type": "stream",
     "text": [
      "Number of rows:  3222\n",
      "Number of columns:  4\n"
     ]
    }
   ],
   "source": [
    "# Select columns for ios_final\n",
    "ios_analytical_df = ios_final[\n",
    "    [\"track_name\", \"rating_count_tot\", \"rating_count_ver\", \"prime_genre\"]\n",
    "].copy()\n",
    "explore_data(ios_analytical_df, 3, True)"
   ]
  },
  {
   "cell_type": "markdown",
   "id": "10d75788",
   "metadata": {},
   "source": [
    "With the selection of key features now complete, the `android_analytical_df` dataset consists of 8,861 applications and 5 columns, while the `ios_analytical_df` dataset contains 3,222 applications and 4 columns. These streamlined and analysis-focused DataFrames are now fully prepared for the subsequent phase of identifying profitable app profiles.\n"
   ]
  },
  {
   "cell_type": "markdown",
   "id": "70d7a780",
   "metadata": {},
   "source": [
    "## Data Analysis\n"
   ]
  },
  {
   "cell_type": "markdown",
   "id": "c1d566d2",
   "metadata": {},
   "source": [
    "With the datasets now cleaned and prepared, the data analysis phase commences to identify potentially profitable application profiles.\n",
    "\n",
    "The company's primary revenue stream is derived from in-app advertisements within its portfolio of free-to-download mobile applications. Consequently, user engagement and the active user base size are direct drivers of revenue.\n",
    "\n",
    "This analysis aims to identify promising application categories by examining the prevalence of different app genres within the Google Play Store and iOS App Store datasets.\n"
   ]
  },
  {
   "cell_type": "markdown",
   "id": "354ddd1a",
   "metadata": {},
   "source": [
    "### Most Common Apps by Genre\n"
   ]
  },
  {
   "cell_type": "markdown",
   "id": "6717eb92",
   "metadata": {},
   "source": [
    "Given the company's objective to launch a new application on both the Google Play Store and the iOS App Store, this initial analysis focuses on identifying app genres that demonstrate high prevalence across both platforms.\n",
    "\n",
    "To achieve this, frequency tables will be generated to ascertain the most common genres within each market. To confirm the relevant column names for this task, the headers of the analytical datasets are displayed:\n"
   ]
  },
  {
   "cell_type": "code",
   "execution_count": 30,
   "id": "49fada50",
   "metadata": {},
   "outputs": [
    {
     "data": {
      "text/plain": [
       "'Google Play Store'"
      ]
     },
     "metadata": {},
     "output_type": "display_data"
    },
    {
     "data": {
      "text/html": [
       "<div>\n",
       "<style scoped>\n",
       "    .dataframe tbody tr th:only-of-type {\n",
       "        vertical-align: middle;\n",
       "    }\n",
       "\n",
       "    .dataframe tbody tr th {\n",
       "        vertical-align: top;\n",
       "    }\n",
       "\n",
       "    .dataframe thead th {\n",
       "        text-align: right;\n",
       "    }\n",
       "</style>\n",
       "<table border=\"1\" class=\"dataframe\">\n",
       "  <thead>\n",
       "    <tr style=\"text-align: right;\">\n",
       "      <th></th>\n",
       "      <th>App</th>\n",
       "      <th>Category</th>\n",
       "      <th>Reviews</th>\n",
       "      <th>Installs</th>\n",
       "      <th>Genres</th>\n",
       "    </tr>\n",
       "  </thead>\n",
       "  <tbody>\n",
       "  </tbody>\n",
       "</table>\n",
       "</div>"
      ],
      "text/plain": [
       "Empty DataFrame\n",
       "Columns: [App, Category, Reviews, Installs, Genres]\n",
       "Index: []"
      ]
     },
     "metadata": {},
     "output_type": "display_data"
    },
    {
     "data": {
      "text/plain": [
       "'iOS App Store'"
      ]
     },
     "metadata": {},
     "output_type": "display_data"
    },
    {
     "data": {
      "text/html": [
       "<div>\n",
       "<style scoped>\n",
       "    .dataframe tbody tr th:only-of-type {\n",
       "        vertical-align: middle;\n",
       "    }\n",
       "\n",
       "    .dataframe tbody tr th {\n",
       "        vertical-align: top;\n",
       "    }\n",
       "\n",
       "    .dataframe thead th {\n",
       "        text-align: right;\n",
       "    }\n",
       "</style>\n",
       "<table border=\"1\" class=\"dataframe\">\n",
       "  <thead>\n",
       "    <tr style=\"text-align: right;\">\n",
       "      <th></th>\n",
       "      <th>track_name</th>\n",
       "      <th>rating_count_tot</th>\n",
       "      <th>rating_count_ver</th>\n",
       "      <th>prime_genre</th>\n",
       "    </tr>\n",
       "  </thead>\n",
       "  <tbody>\n",
       "  </tbody>\n",
       "</table>\n",
       "</div>"
      ],
      "text/plain": [
       "Empty DataFrame\n",
       "Columns: [track_name, rating_count_tot, rating_count_ver, prime_genre]\n",
       "Index: []"
      ]
     },
     "metadata": {},
     "output_type": "display_data"
    }
   ],
   "source": [
    "display(\"Google Play Store\", android_analytical_df.head(0))\n",
    "display(\"iOS App Store\", ios_analytical_df.head(0))"
   ]
  },
  {
   "cell_type": "markdown",
   "id": "83b7d25b",
   "metadata": {},
   "source": [
    "The analysis will utilize the `Genres` and `Category` columns from the Google Play Store dataset and the `prime_genre` column from the iOS App Store dataset.\n",
    "\n",
    "To facilitate the generation and presentation of these frequency distributions, a helper function, `freq_table()`, is defined. This function calculates normalized frequencies (percentages) for a specified column, sorts them by frequency in descending order, and formats them for clear presentation.\n",
    "\n",
    "The `freq_table()` function accepts a dataset and a column name (subset) as input and returns a formatted series representing the frequency table.\n"
   ]
  },
  {
   "cell_type": "code",
   "execution_count": 31,
   "id": "b4225283",
   "metadata": {},
   "outputs": [],
   "source": [
    "def freq_table(dataset, subset):\n",
    "    \"\"\"Calculates and formats a sorted frequency table (percentages) for a specified column in a dataset. Frequencies are normalized, converted to percentages, displayed in descending order, and rounded to two decimal places.\"\"\"\n",
    "    return (dataset.value_counts(subset=subset, normalize=True) * 100).map(\n",
    "        \"{:,.2f}%\".format\n",
    "    )"
   ]
  },
  {
   "cell_type": "markdown",
   "id": "57ef062d",
   "metadata": {},
   "source": [
    "The `freq_table()` function is first applied to the `Category` column of the Google Play Store dataset:\n"
   ]
  },
  {
   "cell_type": "code",
   "execution_count": 32,
   "id": "f50580aa",
   "metadata": {},
   "outputs": [
    {
     "data": {
      "text/plain": [
       "Category\n",
       "FAMILY                 18.93%\n",
       "GAME                    9.69%\n",
       "TOOLS                   8.45%\n",
       "BUSINESS                4.59%\n",
       "LIFESTYLE               3.90%\n",
       "PRODUCTIVITY            3.89%\n",
       "FINANCE                 3.70%\n",
       "MEDICAL                 3.52%\n",
       "SPORTS                  3.40%\n",
       "PERSONALIZATION         3.32%\n",
       "COMMUNICATION           3.24%\n",
       "HEALTH_AND_FITNESS      3.08%\n",
       "PHOTOGRAPHY             2.95%\n",
       "NEWS_AND_MAGAZINES      2.80%\n",
       "SOCIAL                  2.66%\n",
       "TRAVEL_AND_LOCAL        2.34%\n",
       "SHOPPING                2.25%\n",
       "BOOKS_AND_REFERENCE     2.14%\n",
       "DATING                  1.86%\n",
       "VIDEO_PLAYERS           1.79%\n",
       "MAPS_AND_NAVIGATION     1.40%\n",
       "FOOD_AND_DRINK          1.24%\n",
       "EDUCATION               1.17%\n",
       "ENTERTAINMENT           0.96%\n",
       "LIBRARIES_AND_DEMO      0.94%\n",
       "AUTO_AND_VEHICLES       0.93%\n",
       "HOUSE_AND_HOME          0.82%\n",
       "WEATHER                 0.80%\n",
       "EVENTS                  0.71%\n",
       "PARENTING               0.65%\n",
       "ART_AND_DESIGN          0.64%\n",
       "COMICS                  0.62%\n",
       "BEAUTY                  0.60%\n",
       "Name: proportion, dtype: object"
      ]
     },
     "execution_count": 32,
     "metadata": {},
     "output_type": "execute_result"
    }
   ],
   "source": [
    "# Display the frequency table for the Google Play Store's Category column\n",
    "freq_table(android_analytical_df, \"Category\")"
   ]
  },
  {
   "cell_type": "markdown",
   "id": "f9cb21d5",
   "metadata": {},
   "source": [
    "Next, the frequency distribution for the `Genres` column in the Google Play Store dataset is generated:\n"
   ]
  },
  {
   "cell_type": "code",
   "execution_count": 33,
   "id": "1b5477bc",
   "metadata": {},
   "outputs": [
    {
     "data": {
      "text/plain": [
       "Genres\n",
       "Tools                                 8.44%\n",
       "Entertainment                         6.07%\n",
       "Education                             5.35%\n",
       "Business                              4.59%\n",
       "Lifestyle                             3.89%\n",
       "                                      ...  \n",
       "Strategy;Creativity                   0.01%\n",
       "Tools;Education                       0.01%\n",
       "Travel & Local;Action & Adventure     0.01%\n",
       "Trivia;Education                      0.01%\n",
       "Video Players & Editors;Creativity    0.01%\n",
       "Name: proportion, Length: 115, dtype: object"
      ]
     },
     "execution_count": 33,
     "metadata": {},
     "output_type": "execute_result"
    }
   ],
   "source": [
    "# Display the frequency table for the Genre column from the Google Play Store dataset\n",
    "freq_table(android_analytical_df, \"Genres\")"
   ]
  },
  {
   "cell_type": "markdown",
   "id": "dfd78132",
   "metadata": {},
   "source": [
    "Finally, the frequency distribution for the `prime_genre` column in the iOS App Store dataset is displayed:\n"
   ]
  },
  {
   "cell_type": "code",
   "execution_count": 34,
   "id": "18c2ab35",
   "metadata": {},
   "outputs": [
    {
     "data": {
      "text/plain": [
       "prime_genre\n",
       "Games                58.16%\n",
       "Entertainment         7.88%\n",
       "Photo & Video         4.97%\n",
       "Education             3.66%\n",
       "Social Networking     3.29%\n",
       "Shopping              2.61%\n",
       "Utilities             2.51%\n",
       "Sports                2.14%\n",
       "Music                 2.05%\n",
       "Health & Fitness      2.02%\n",
       "Productivity          1.74%\n",
       "Lifestyle             1.58%\n",
       "News                  1.33%\n",
       "Travel                1.24%\n",
       "Finance               1.12%\n",
       "Weather               0.87%\n",
       "Food & Drink          0.81%\n",
       "Reference             0.56%\n",
       "Business              0.53%\n",
       "Book                  0.43%\n",
       "Navigation            0.19%\n",
       "Medical               0.19%\n",
       "Catalogs              0.12%\n",
       "Name: proportion, dtype: object"
      ]
     },
     "execution_count": 34,
     "metadata": {},
     "output_type": "execute_result"
    }
   ],
   "source": [
    "freq_table(ios_analytical_df, \"prime_genre\")"
   ]
  },
  {
   "cell_type": "markdown",
   "id": "3fc4b792",
   "metadata": {},
   "source": [
    "#### Google Play Store\n"
   ]
  },
  {
   "cell_type": "markdown",
   "id": "b3afa743",
   "metadata": {},
   "source": [
    "##### Category\n"
   ]
  },
  {
   "cell_type": "markdown",
   "id": "69f29211",
   "metadata": {},
   "source": [
    "The `FAMILY` category exhibits the highest prevalence in the Google Play Store dataset, accounting for 18.93% of the listed applications. It is followed by the `GAME` category at 9.69% and `TOOLS` at 8.45%.\n",
    "\n",
    "These findings suggest that developing an application within the `FAMILY` category could be a viable strategy. Furthermore, an application that spans multiple categories (e.g., a family-oriented game or a utility tool for families) might possess greater market appeal or differentiation compared to an application targeting a single category, potentially enhancing its visibility among numerous competitors.\n"
   ]
  },
  {
   "cell_type": "markdown",
   "id": "e32011d1",
   "metadata": {},
   "source": [
    "##### Genre\n"
   ]
  },
  {
   "cell_type": "markdown",
   "id": "502f09a2",
   "metadata": {},
   "source": [
    "`Tools` is the most frequent `Genre` in the Google Play Store at 8.44%, followed by `Entertainment` (6.07%) and `Education` (5.35%).\n",
    "\n",
    "Consistent with observations from the `Category` analysis, applications within the `Tools` genre are highly prevalent. The `Entertainment` and `Education` genres also represent significant portions of the dataset. These genres could potentially complement applications in the prominent `GAME` and `FAMILY` categories, indicating a broad appeal for such integrated functionalities in free applications.\n"
   ]
  },
  {
   "cell_type": "markdown",
   "id": "0880a539",
   "metadata": {},
   "source": [
    "#### iOS App Store\n"
   ]
  },
  {
   "cell_type": "markdown",
   "id": "44c363c5",
   "metadata": {},
   "source": [
    "##### prime_genre\n"
   ]
  },
  {
   "cell_type": "markdown",
   "id": "4d69170e",
   "metadata": {},
   "source": [
    "According to the frequency analysis, `Games` is the most dominant `prime_genre` in the iOS App Store, constituting 58.16% of the free applications. This high concentration suggests `Games` as a significant genre to consider, particularly for the iOS market.\n",
    "\n",
    "The next most common genres are `Entertainment` (7.88%) and `Photo & Video` (4.97%).\n"
   ]
  },
  {
   "cell_type": "markdown",
   "id": "e5742b30",
   "metadata": {},
   "source": [
    "#### Recommended App Profile\n"
   ]
  },
  {
   "cell_type": "markdown",
   "id": "4385f52b",
   "metadata": {},
   "source": [
    "The high prevalence of gaming applications on both platforms, particularly on the iOS App Store, suggests that developing a game could be a promising avenue. Game applications also offer the potential for integration with other categories or genres, potentially broadening their target audience.\n",
    "\n",
    "It is important to note, however, that a high genre frequency (such as the 58.16% for games on iOS) does not inherently guarantee a larger accessible audience or indicate lower risk. This prevalence could reflect lower barriers to entry for game development or approval, or it might signify intense market competition.\n",
    "\n",
    "Considering the company's objectives, a gaming application might represent a strategically sound initial venture. I recommend a phased approach: first, develop and launch a game for the Android platform via the Google Play Store, where games constitute 9.69% of the analyzed free applications. User response and engagement metrics should be closely monitored. If the application demonstrates positive traction and achieves profitability within an approximate six-month timeframe, developing an iOS version for the App Store would then be advisable.\n"
   ]
  },
  {
   "cell_type": "markdown",
   "id": "dd6302aa",
   "metadata": {},
   "source": [
    "### Most Popular Apps by Genre\n"
   ]
  },
  {
   "cell_type": "markdown",
   "id": "256ba892",
   "metadata": {},
   "source": [
    "As mentioned above, the frequency tables do not infer a higher number of users. For the next part of this analysis, I will be looking at which apps have the most users.\n"
   ]
  },
  {
   "cell_type": "markdown",
   "id": "1213b5d4",
   "metadata": {},
   "source": [
    "#### iOS App Store\n"
   ]
  },
  {
   "cell_type": "markdown",
   "id": "c8b90311",
   "metadata": {},
   "source": [
    "Unlike the Google Play Store dataset, the iOS App Store dataset does not have an `Installs` column that can be used for this analysis, so the total number of user ratings will be used instead.\n",
    "\n",
    "To calculate the average number of user ratings per app genre, the `rating_count_tot` column will be used.\n"
   ]
  },
  {
   "cell_type": "markdown",
   "id": "d6a67fbf",
   "metadata": {},
   "source": [
    "The code block below groups the `ios_analytical_df` by the `prime_genre` column, calculates the average user ratings, then sorts and formats the data.\n"
   ]
  },
  {
   "cell_type": "code",
   "execution_count": 35,
   "id": "6c073413",
   "metadata": {},
   "outputs": [
    {
     "data": {
      "text/plain": [
       "prime_genre\n",
       "Navigation           86,090.33\n",
       "Reference            74,942.11\n",
       "Social Networking    71,548.35\n",
       "Music                57,326.53\n",
       "Weather              52,279.89\n",
       "Book                 39,758.50\n",
       "Food & Drink         33,333.92\n",
       "Finance              31,467.94\n",
       "Photo & Video        28,441.54\n",
       "Travel               28,243.80\n",
       "Shopping             26,919.69\n",
       "Health & Fitness     23,298.02\n",
       "Sports               23,008.90\n",
       "Games                22,788.67\n",
       "News                 21,248.02\n",
       "Productivity         21,028.41\n",
       "Utilities            18,684.46\n",
       "Lifestyle            16,485.76\n",
       "Entertainment        14,029.83\n",
       "Business              7,491.12\n",
       "Education             7,003.98\n",
       "Catalogs              4,004.00\n",
       "Medical                 612.00\n",
       "Name: rating_count_tot, dtype: object"
      ]
     },
     "execution_count": 35,
     "metadata": {},
     "output_type": "execute_result"
    }
   ],
   "source": [
    "# Display the mean of user ratings for each genre\n",
    "ios_analytical_df.groupby(\"prime_genre\")[\"rating_count_tot\"].mean().sort_values(\n",
    "    ascending=False\n",
    ").map(\"{:,.2f}\".format)"
   ]
  },
  {
   "cell_type": "markdown",
   "id": "0a01e3a4",
   "metadata": {},
   "source": [
    "The above table shows that `Navigation`, `Reference`, `Social Networking`, and `Music` have the highest average user ratings among all genres in the iOS App Store.\n",
    "\n",
    "Further analysis shows within each genre the data is skewed to a few applications.\n"
   ]
  },
  {
   "cell_type": "markdown",
   "id": "e43ccd50",
   "metadata": {},
   "source": [
    "The code below creates a function that will print each application under a specified genre and their user ratings, and the function will sort the output by the app's user ratings:\n"
   ]
  },
  {
   "cell_type": "code",
   "execution_count": 36,
   "id": "de45647a",
   "metadata": {},
   "outputs": [],
   "source": [
    "def display_ios_ratings(genre_name):\n",
    "    display(\n",
    "        ios_analytical_df.loc[\n",
    "            (ios_analytical_df[\"prime_genre\"] == genre_name),\n",
    "            [\"track_name\", \"rating_count_tot\"],\n",
    "        ].sort_values(\"rating_count_tot\", ascending=False)\n",
    "    )"
   ]
  },
  {
   "cell_type": "markdown",
   "id": "442a8b92",
   "metadata": {},
   "source": [
    "The `Navigation` genres shows a skew toward two very popular applications:\n"
   ]
  },
  {
   "cell_type": "code",
   "execution_count": 37,
   "id": "fdcb8f33",
   "metadata": {},
   "outputs": [
    {
     "data": {
      "text/html": [
       "<div>\n",
       "<style scoped>\n",
       "    .dataframe tbody tr th:only-of-type {\n",
       "        vertical-align: middle;\n",
       "    }\n",
       "\n",
       "    .dataframe tbody tr th {\n",
       "        vertical-align: top;\n",
       "    }\n",
       "\n",
       "    .dataframe thead th {\n",
       "        text-align: right;\n",
       "    }\n",
       "</style>\n",
       "<table border=\"1\" class=\"dataframe\">\n",
       "  <thead>\n",
       "    <tr style=\"text-align: right;\">\n",
       "      <th></th>\n",
       "      <th>track_name</th>\n",
       "      <th>rating_count_tot</th>\n",
       "    </tr>\n",
       "  </thead>\n",
       "  <tbody>\n",
       "    <tr>\n",
       "      <th>197</th>\n",
       "      <td>Waze - GPS Navigation, Maps &amp; Real-time Traffic</td>\n",
       "      <td>345046</td>\n",
       "    </tr>\n",
       "    <tr>\n",
       "      <th>1968</th>\n",
       "      <td>Google Maps - Navigation &amp; Transit</td>\n",
       "      <td>154911</td>\n",
       "    </tr>\n",
       "    <tr>\n",
       "      <th>228</th>\n",
       "      <td>Geocaching®</td>\n",
       "      <td>12811</td>\n",
       "    </tr>\n",
       "    <tr>\n",
       "      <th>1402</th>\n",
       "      <td>CoPilot GPS – Car Navigation &amp; Offline Maps</td>\n",
       "      <td>3582</td>\n",
       "    </tr>\n",
       "    <tr>\n",
       "      <th>316</th>\n",
       "      <td>ImmobilienScout24: Real Estate Search in Germany</td>\n",
       "      <td>187</td>\n",
       "    </tr>\n",
       "    <tr>\n",
       "      <th>1102</th>\n",
       "      <td>Railway Route Search</td>\n",
       "      <td>5</td>\n",
       "    </tr>\n",
       "  </tbody>\n",
       "</table>\n",
       "</div>"
      ],
      "text/plain": [
       "                                            track_name  rating_count_tot\n",
       "197    Waze - GPS Navigation, Maps & Real-time Traffic            345046\n",
       "1968                Google Maps - Navigation & Transit            154911\n",
       "228                                        Geocaching®             12811\n",
       "1402       CoPilot GPS – Car Navigation & Offline Maps              3582\n",
       "316   ImmobilienScout24: Real Estate Search in Germany               187\n",
       "1102                              Railway Route Search                 5"
      ]
     },
     "metadata": {},
     "output_type": "display_data"
    }
   ],
   "source": [
    "display_ios_ratings(\"Navigation\")"
   ]
  },
  {
   "cell_type": "markdown",
   "id": "81d3e3bb",
   "metadata": {},
   "source": [
    "The above output shows that Waze and Google Maps have 499,957 user ratings combine - that's almost half a million user ratings for only two mobile apps!\n"
   ]
  },
  {
   "cell_type": "markdown",
   "id": "b9f26a41",
   "metadata": {},
   "source": [
    "A similar pattern applies to `Social Networking` and `Music` apps:\n"
   ]
  },
  {
   "cell_type": "code",
   "execution_count": 38,
   "id": "464e1692",
   "metadata": {},
   "outputs": [
    {
     "data": {
      "text/html": [
       "<div>\n",
       "<style scoped>\n",
       "    .dataframe tbody tr th:only-of-type {\n",
       "        vertical-align: middle;\n",
       "    }\n",
       "\n",
       "    .dataframe tbody tr th {\n",
       "        vertical-align: top;\n",
       "    }\n",
       "\n",
       "    .dataframe thead th {\n",
       "        text-align: right;\n",
       "    }\n",
       "</style>\n",
       "<table border=\"1\" class=\"dataframe\">\n",
       "  <thead>\n",
       "    <tr style=\"text-align: right;\">\n",
       "      <th></th>\n",
       "      <th>track_name</th>\n",
       "      <th>rating_count_tot</th>\n",
       "    </tr>\n",
       "  </thead>\n",
       "  <tbody>\n",
       "    <tr>\n",
       "      <th>17</th>\n",
       "      <td>Facebook</td>\n",
       "      <td>2974676</td>\n",
       "    </tr>\n",
       "    <tr>\n",
       "      <th>863</th>\n",
       "      <td>Pinterest</td>\n",
       "      <td>1061624</td>\n",
       "    </tr>\n",
       "    <tr>\n",
       "      <th>104</th>\n",
       "      <td>Skype for iPhone</td>\n",
       "      <td>373519</td>\n",
       "    </tr>\n",
       "    <tr>\n",
       "      <th>1041</th>\n",
       "      <td>Messenger</td>\n",
       "      <td>351466</td>\n",
       "    </tr>\n",
       "    <tr>\n",
       "      <th>105</th>\n",
       "      <td>Tumblr</td>\n",
       "      <td>334293</td>\n",
       "    </tr>\n",
       "    <tr>\n",
       "      <th>...</th>\n",
       "      <td>...</td>\n",
       "      <td>...</td>\n",
       "    </tr>\n",
       "    <tr>\n",
       "      <th>4893</th>\n",
       "      <td>BestieBox</td>\n",
       "      <td>0</td>\n",
       "    </tr>\n",
       "    <tr>\n",
       "      <th>6558</th>\n",
       "      <td>bit-tube - Live Stream Video Chat</td>\n",
       "      <td>0</td>\n",
       "    </tr>\n",
       "    <tr>\n",
       "      <th>5988</th>\n",
       "      <td>MATCH ON LINE chat</td>\n",
       "      <td>0</td>\n",
       "    </tr>\n",
       "    <tr>\n",
       "      <th>10101</th>\n",
       "      <td>niconico ch</td>\n",
       "      <td>0</td>\n",
       "    </tr>\n",
       "    <tr>\n",
       "      <th>10656</th>\n",
       "      <td>LINE BLOG</td>\n",
       "      <td>0</td>\n",
       "    </tr>\n",
       "  </tbody>\n",
       "</table>\n",
       "<p>106 rows × 2 columns</p>\n",
       "</div>"
      ],
      "text/plain": [
       "                              track_name  rating_count_tot\n",
       "17                              Facebook           2974676\n",
       "863                            Pinterest           1061624\n",
       "104                     Skype for iPhone            373519\n",
       "1041                           Messenger            351466\n",
       "105                               Tumblr            334293\n",
       "...                                  ...               ...\n",
       "4893                           BestieBox                 0\n",
       "6558   bit-tube - Live Stream Video Chat                 0\n",
       "5988                  MATCH ON LINE chat                 0\n",
       "10101                        niconico ch                 0\n",
       "10656                          LINE BLOG                 0\n",
       "\n",
       "[106 rows x 2 columns]"
      ]
     },
     "metadata": {},
     "output_type": "display_data"
    }
   ],
   "source": [
    "display_ios_ratings(\"Social Networking\")"
   ]
  },
  {
   "cell_type": "code",
   "execution_count": 39,
   "id": "1d13f10b",
   "metadata": {},
   "outputs": [
    {
     "data": {
      "text/html": [
       "<div>\n",
       "<style scoped>\n",
       "    .dataframe tbody tr th:only-of-type {\n",
       "        vertical-align: middle;\n",
       "    }\n",
       "\n",
       "    .dataframe tbody tr th {\n",
       "        vertical-align: top;\n",
       "    }\n",
       "\n",
       "    .dataframe thead th {\n",
       "        text-align: right;\n",
       "    }\n",
       "</style>\n",
       "<table border=\"1\" class=\"dataframe\">\n",
       "  <thead>\n",
       "    <tr style=\"text-align: right;\">\n",
       "      <th></th>\n",
       "      <th>track_name</th>\n",
       "      <th>rating_count_tot</th>\n",
       "    </tr>\n",
       "  </thead>\n",
       "  <tbody>\n",
       "    <tr>\n",
       "      <th>8</th>\n",
       "      <td>Pandora - Music &amp; Radio</td>\n",
       "      <td>1126879</td>\n",
       "    </tr>\n",
       "    <tr>\n",
       "      <th>202</th>\n",
       "      <td>Spotify Music</td>\n",
       "      <td>878563</td>\n",
       "    </tr>\n",
       "    <tr>\n",
       "      <th>20</th>\n",
       "      <td>Shazam - Discover music, artists, videos &amp; lyrics</td>\n",
       "      <td>402925</td>\n",
       "    </tr>\n",
       "    <tr>\n",
       "      <th>40</th>\n",
       "      <td>iHeartRadio – Free Music &amp; Radio Stations</td>\n",
       "      <td>293228</td>\n",
       "    </tr>\n",
       "    <tr>\n",
       "      <th>270</th>\n",
       "      <td>SoundCloud - Music &amp; Audio</td>\n",
       "      <td>135744</td>\n",
       "    </tr>\n",
       "    <tr>\n",
       "      <th>...</th>\n",
       "      <td>...</td>\n",
       "      <td>...</td>\n",
       "    </tr>\n",
       "    <tr>\n",
       "      <th>6193</th>\n",
       "      <td>Free Music -  Player &amp; Streamer  for Dropbox, ...</td>\n",
       "      <td>46</td>\n",
       "    </tr>\n",
       "    <tr>\n",
       "      <th>75</th>\n",
       "      <td>NRJ Radio</td>\n",
       "      <td>38</td>\n",
       "    </tr>\n",
       "    <tr>\n",
       "      <th>3169</th>\n",
       "      <td>Smart Music: Streaming Videos and Radio</td>\n",
       "      <td>17</td>\n",
       "    </tr>\n",
       "    <tr>\n",
       "      <th>8633</th>\n",
       "      <td>BOSS Tuner</td>\n",
       "      <td>13</td>\n",
       "    </tr>\n",
       "    <tr>\n",
       "      <th>1269</th>\n",
       "      <td>PetitLyrics</td>\n",
       "      <td>0</td>\n",
       "    </tr>\n",
       "  </tbody>\n",
       "</table>\n",
       "<p>66 rows × 2 columns</p>\n",
       "</div>"
      ],
      "text/plain": [
       "                                             track_name  rating_count_tot\n",
       "8                               Pandora - Music & Radio           1126879\n",
       "202                                       Spotify Music            878563\n",
       "20    Shazam - Discover music, artists, videos & lyrics            402925\n",
       "40            iHeartRadio – Free Music & Radio Stations            293228\n",
       "270                          SoundCloud - Music & Audio            135744\n",
       "...                                                 ...               ...\n",
       "6193  Free Music -  Player & Streamer  for Dropbox, ...                46\n",
       "75                                            NRJ Radio                38\n",
       "3169            Smart Music: Streaming Videos and Radio                17\n",
       "8633                                         BOSS Tuner                13\n",
       "1269                                        PetitLyrics                 0\n",
       "\n",
       "[66 rows x 2 columns]"
      ]
     },
     "metadata": {},
     "output_type": "display_data"
    }
   ],
   "source": [
    "display_ios_ratings(\"Music\")"
   ]
  },
  {
   "cell_type": "markdown",
   "id": "d5335f6a",
   "metadata": {},
   "source": [
    "The `Social Networking` genre's output is heavily skewed by popular apps such as Facebook, Pinterest, Skype, etc.\n",
    "\n",
    "The `Music` genre is heavily influenced by the ratings of apps such as Pandora, Spotify, Shazam, and iHeartRadio.\n"
   ]
  },
  {
   "cell_type": "markdown",
   "id": "744bed31",
   "metadata": {},
   "source": [
    "What can be inferred by the above output is that apps in the `Navigation`, `Social Networking` and `Music` genres may not be as popular as they seem. All of these apps make up a small percentage of the total number of apps in each genre, yet they have significantly more user ratings than most other apps within the same genre.\n"
   ]
  },
  {
   "cell_type": "markdown",
   "id": "8a3cbbb6",
   "metadata": {},
   "source": [
    "In regards to `Reference` apps, which has the second highest average number of user ratings, there are two apps that skew the average results: the Bible and Dictionary.com.\n"
   ]
  },
  {
   "cell_type": "code",
   "execution_count": 40,
   "id": "b5da1e2f",
   "metadata": {},
   "outputs": [
    {
     "data": {
      "text/html": [
       "<div>\n",
       "<style scoped>\n",
       "    .dataframe tbody tr th:only-of-type {\n",
       "        vertical-align: middle;\n",
       "    }\n",
       "\n",
       "    .dataframe tbody tr th {\n",
       "        vertical-align: top;\n",
       "    }\n",
       "\n",
       "    .dataframe thead th {\n",
       "        text-align: right;\n",
       "    }\n",
       "</style>\n",
       "<table border=\"1\" class=\"dataframe\">\n",
       "  <thead>\n",
       "    <tr style=\"text-align: right;\">\n",
       "      <th></th>\n",
       "      <th>track_name</th>\n",
       "      <th>rating_count_tot</th>\n",
       "    </tr>\n",
       "  </thead>\n",
       "  <tbody>\n",
       "    <tr>\n",
       "      <th>5</th>\n",
       "      <td>Bible</td>\n",
       "      <td>985920</td>\n",
       "    </tr>\n",
       "    <tr>\n",
       "      <th>130</th>\n",
       "      <td>Dictionary.com Dictionary &amp; Thesaurus</td>\n",
       "      <td>200047</td>\n",
       "    </tr>\n",
       "    <tr>\n",
       "      <th>424</th>\n",
       "      <td>Dictionary.com Dictionary &amp; Thesaurus for iPad</td>\n",
       "      <td>54175</td>\n",
       "    </tr>\n",
       "    <tr>\n",
       "      <th>779</th>\n",
       "      <td>Google Translate</td>\n",
       "      <td>26786</td>\n",
       "    </tr>\n",
       "    <tr>\n",
       "      <th>574</th>\n",
       "      <td>Muslim Pro: Ramadan 2017 Prayer Times, Azan, Q...</td>\n",
       "      <td>18418</td>\n",
       "    </tr>\n",
       "    <tr>\n",
       "      <th>9399</th>\n",
       "      <td>New Furniture Mods - Pocket Wiki &amp; Game Tools ...</td>\n",
       "      <td>17588</td>\n",
       "    </tr>\n",
       "    <tr>\n",
       "      <th>669</th>\n",
       "      <td>Merriam-Webster Dictionary</td>\n",
       "      <td>16849</td>\n",
       "    </tr>\n",
       "    <tr>\n",
       "      <th>1193</th>\n",
       "      <td>Night Sky</td>\n",
       "      <td>12122</td>\n",
       "    </tr>\n",
       "    <tr>\n",
       "      <th>9625</th>\n",
       "      <td>City Maps for Minecraft PE - The Best Maps for...</td>\n",
       "      <td>8535</td>\n",
       "    </tr>\n",
       "    <tr>\n",
       "      <th>9485</th>\n",
       "      <td>LUCKY BLOCK MOD ™ for Minecraft PC Edition - T...</td>\n",
       "      <td>4693</td>\n",
       "    </tr>\n",
       "    <tr>\n",
       "      <th>9726</th>\n",
       "      <td>GUNS MODS for Minecraft PC Edition - Mods Tools</td>\n",
       "      <td>1497</td>\n",
       "    </tr>\n",
       "    <tr>\n",
       "      <th>9540</th>\n",
       "      <td>Guides for Pokémon GO - Pokemon GO News and Ch...</td>\n",
       "      <td>826</td>\n",
       "    </tr>\n",
       "    <tr>\n",
       "      <th>2251</th>\n",
       "      <td>WWDC</td>\n",
       "      <td>762</td>\n",
       "    </tr>\n",
       "    <tr>\n",
       "      <th>9541</th>\n",
       "      <td>Horror Maps for Minecraft PE - Download The Sc...</td>\n",
       "      <td>718</td>\n",
       "    </tr>\n",
       "    <tr>\n",
       "      <th>4805</th>\n",
       "      <td>VPN Express</td>\n",
       "      <td>14</td>\n",
       "    </tr>\n",
       "    <tr>\n",
       "      <th>10305</th>\n",
       "      <td>Real Bike Traffic Rider Virtual Reality Glasses</td>\n",
       "      <td>8</td>\n",
       "    </tr>\n",
       "    <tr>\n",
       "      <th>4416</th>\n",
       "      <td>教えて!goo</td>\n",
       "      <td>0</td>\n",
       "    </tr>\n",
       "    <tr>\n",
       "      <th>2424</th>\n",
       "      <td>Jishokun-Japanese English Dictionary &amp; Translator</td>\n",
       "      <td>0</td>\n",
       "    </tr>\n",
       "  </tbody>\n",
       "</table>\n",
       "</div>"
      ],
      "text/plain": [
       "                                              track_name  rating_count_tot\n",
       "5                                                  Bible            985920\n",
       "130                Dictionary.com Dictionary & Thesaurus            200047\n",
       "424       Dictionary.com Dictionary & Thesaurus for iPad             54175\n",
       "779                                     Google Translate             26786\n",
       "574    Muslim Pro: Ramadan 2017 Prayer Times, Azan, Q...             18418\n",
       "9399   New Furniture Mods - Pocket Wiki & Game Tools ...             17588\n",
       "669                           Merriam-Webster Dictionary             16849\n",
       "1193                                           Night Sky             12122\n",
       "9625   City Maps for Minecraft PE - The Best Maps for...              8535\n",
       "9485   LUCKY BLOCK MOD ™ for Minecraft PC Edition - T...              4693\n",
       "9726     GUNS MODS for Minecraft PC Edition - Mods Tools              1497\n",
       "9540   Guides for Pokémon GO - Pokemon GO News and Ch...               826\n",
       "2251                                                WWDC               762\n",
       "9541   Horror Maps for Minecraft PE - Download The Sc...               718\n",
       "4805                                         VPN Express                14\n",
       "10305    Real Bike Traffic Rider Virtual Reality Glasses                 8\n",
       "4416                                             教えて!goo                 0\n",
       "2424   Jishokun-Japanese English Dictionary & Translator                 0"
      ]
     },
     "metadata": {},
     "output_type": "display_data"
    }
   ],
   "source": [
    "display_ios_ratings(\"Reference\")"
   ]
  },
  {
   "cell_type": "markdown",
   "id": "a06ecb55",
   "metadata": {},
   "source": [
    "This information could be useful for the app development company. Another possible app profile to consider is an app that takes a popular book and turn it into an app that provides unique features beside the book itself, such as daily quotes from the book, quizzes about the book, etc. In addition, building in a dictionary into the app will be valuable to users to look up definition of words without having to download or open an external dictionary app.\n",
    "\n",
    "Earlier, it was determined that over half of the iOS App Store's mobile applications are classified as games, suggesting there is some over saturation, and that a more practical app is more likely to differentiate itself from the plethora of entertainment apps.\n"
   ]
  },
  {
   "cell_type": "markdown",
   "id": "b6d7ab7b",
   "metadata": {},
   "source": [
    "#### Google Play Store\n"
   ]
  },
  {
   "cell_type": "markdown",
   "id": "8b5c7d70",
   "metadata": {},
   "source": [
    "To determine which apps have the most users, I will be calculating the average number of installs for each app genre using the values in the `Installs` column of the Google Play Store dataset.\n",
    "\n",
    "It's important to note that the `Installs` column is not precise. The output belows shows the values in the `Installs` column are open-ended (e.g 5,000+, 1,000+, etc.):\n"
   ]
  },
  {
   "cell_type": "code",
   "execution_count": 41,
   "id": "2e6a612b",
   "metadata": {},
   "outputs": [
    {
     "data": {
      "text/plain": [
       "Installs\n",
       "1,000,000+        15.74%\n",
       "100,000+          11.56%\n",
       "10,000,000+       10.52%\n",
       "10,000+           10.20%\n",
       "1,000+             8.40%\n",
       "100+               6.92%\n",
       "5,000,000+         6.84%\n",
       "500,000+           5.57%\n",
       "50,000+            4.77%\n",
       "5,000+             4.51%\n",
       "10+                3.54%\n",
       "500+               3.25%\n",
       "50,000,000+        2.29%\n",
       "100,000,000+       2.12%\n",
       "50+                1.92%\n",
       "5+                 0.79%\n",
       "1+                 0.51%\n",
       "500,000,000+       0.27%\n",
       "1,000,000,000+     0.23%\n",
       "0+                 0.05%\n",
       "Name: proportion, dtype: object"
      ]
     },
     "execution_count": 41,
     "metadata": {},
     "output_type": "execute_result"
    }
   ],
   "source": [
    "freq_table(android_analytical_df, \"Installs\")"
   ]
  },
  {
   "cell_type": "markdown",
   "id": "0a40fe72",
   "metadata": {},
   "source": [
    "For this analysis, the values will be left as they are, so if an app has 10,000+ installs, it will be assumed that the number of installs in 10,000.\n"
   ]
  },
  {
   "cell_type": "markdown",
   "id": "efcdf39f",
   "metadata": {},
   "source": [
    "The code block below takes the dictionary output from the `freq_table()` function, calculates the average number of installs for each category in the dictionary and outputs the results sorted by the average number of installs:\n"
   ]
  },
  {
   "cell_type": "code",
   "execution_count": 42,
   "id": "c83bc8f5",
   "metadata": {},
   "outputs": [],
   "source": [
    "# Remove non-digit characters and convert values to int64 dtype\n",
    "android_analytical_df[\"Installs\"] = (\n",
    "    android_analytical_df[\"Installs\"].str.replace(r\"\\D\", \"\", regex=True).astype(\"int64\")\n",
    ")"
   ]
  },
  {
   "cell_type": "markdown",
   "id": "0378f6b9",
   "metadata": {},
   "source": [
    "The `Installs` column is now free of non-digit characters and has been converted to an integer values, which now allows for the mean to be calculated for each category."
   ]
  },
  {
   "cell_type": "code",
   "execution_count": 44,
   "id": "1a48d22e",
   "metadata": {},
   "outputs": [
    {
     "data": {
      "text/plain": [
       "Category\n",
       "COMMUNICATION          38,456,119.17\n",
       "VIDEO_PLAYERS          24,727,872.45\n",
       "SOCIAL                 23,253,652.13\n",
       "PHOTOGRAPHY            17,805,627.64\n",
       "PRODUCTIVITY           16,787,331.34\n",
       "GAME                   15,560,965.60\n",
       "TRAVEL_AND_LOCAL       13,984,077.71\n",
       "ENTERTAINMENT          11,640,705.88\n",
       "TOOLS                  10,682,301.03\n",
       "NEWS_AND_MAGAZINES      9,549,178.47\n",
       "BOOKS_AND_REFERENCE     8,767,811.89\n",
       "SHOPPING                7,036,877.31\n",
       "PERSONALIZATION         5,201,482.61\n",
       "WEATHER                 5,074,486.20\n",
       "HEALTH_AND_FITNESS      4,188,821.99\n",
       "MAPS_AND_NAVIGATION     4,056,941.77\n",
       "FAMILY                  3,696,479.24\n",
       "SPORTS                  3,638,640.14\n",
       "ART_AND_DESIGN          1,986,335.09\n",
       "FOOD_AND_DRINK          1,924,897.74\n",
       "EDUCATION               1,820,673.08\n",
       "BUSINESS                1,712,290.15\n",
       "LIFESTYLE               1,437,816.27\n",
       "FINANCE                 1,387,692.48\n",
       "HOUSE_AND_HOME          1,331,540.56\n",
       "DATING                    854,028.83\n",
       "COMICS                    817,657.27\n",
       "AUTO_AND_VEHICLES         647,317.82\n",
       "LIBRARIES_AND_DEMO        638,503.73\n",
       "PARENTING                 542,603.62\n",
       "BEAUTY                    513,151.89\n",
       "EVENTS                    253,542.22\n",
       "MEDICAL                   120,616.49\n",
       "Name: Installs, dtype: object"
      ]
     },
     "execution_count": 44,
     "metadata": {},
     "output_type": "execute_result"
    }
   ],
   "source": [
    "# Display the mean of number of installs for each category\n",
    "android_analytical_df.groupby(\"Category\")[\"Installs\"].mean().sort_values(\n",
    "    ascending=False\n",
    ").map(\"{:,.2f}\".format)"
   ]
  },
  {
   "cell_type": "markdown",
   "id": "fdccee10",
   "metadata": {},
   "source": [
    "On average, `COMMUNICATION` apps have the most installs with an average number installs of 38,456,119.17.\n",
    "\n",
    "Before making any decisions based on this information, it's important to take a closer look at the apps within the `COMMUNICATION` genre:\n"
   ]
  },
  {
   "cell_type": "code",
   "execution_count": null,
   "id": "31908a6a",
   "metadata": {},
   "outputs": [
    {
     "data": {
      "text/html": [
       "<div>\n",
       "<style scoped>\n",
       "    .dataframe tbody tr th:only-of-type {\n",
       "        vertical-align: middle;\n",
       "    }\n",
       "\n",
       "    .dataframe tbody tr th {\n",
       "        vertical-align: top;\n",
       "    }\n",
       "\n",
       "    .dataframe thead th {\n",
       "        text-align: right;\n",
       "    }\n",
       "</style>\n",
       "<table border=\"1\" class=\"dataframe\">\n",
       "  <thead>\n",
       "    <tr style=\"text-align: right;\">\n",
       "      <th></th>\n",
       "      <th>App</th>\n",
       "      <th>Installs</th>\n",
       "    </tr>\n",
       "  </thead>\n",
       "  <tbody>\n",
       "    <tr>\n",
       "      <th>391</th>\n",
       "      <td>Skype - free IM &amp; video calls</td>\n",
       "      <td>1000000000</td>\n",
       "    </tr>\n",
       "    <tr>\n",
       "      <th>382</th>\n",
       "      <td>Messenger – Text and Video Chat for Free</td>\n",
       "      <td>1000000000</td>\n",
       "    </tr>\n",
       "    <tr>\n",
       "      <th>464</th>\n",
       "      <td>Hangouts</td>\n",
       "      <td>1000000000</td>\n",
       "    </tr>\n",
       "    <tr>\n",
       "      <th>336</th>\n",
       "      <td>WhatsApp Messenger</td>\n",
       "      <td>1000000000</td>\n",
       "    </tr>\n",
       "    <tr>\n",
       "      <th>411</th>\n",
       "      <td>Google Chrome: Fast &amp; Secure</td>\n",
       "      <td>1000000000</td>\n",
       "    </tr>\n",
       "    <tr>\n",
       "      <th>...</th>\n",
       "      <td>...</td>\n",
       "      <td>...</td>\n",
       "    </tr>\n",
       "    <tr>\n",
       "      <th>9648</th>\n",
       "      <td>EO Mumbai</td>\n",
       "      <td>10</td>\n",
       "    </tr>\n",
       "    <tr>\n",
       "      <th>10748</th>\n",
       "      <td>FP Live</td>\n",
       "      <td>10</td>\n",
       "    </tr>\n",
       "    <tr>\n",
       "      <th>10169</th>\n",
       "      <td>Test Server SMS FA</td>\n",
       "      <td>5</td>\n",
       "    </tr>\n",
       "    <tr>\n",
       "      <th>6399</th>\n",
       "      <td>Of the wall Arapaho bk</td>\n",
       "      <td>5</td>\n",
       "    </tr>\n",
       "    <tr>\n",
       "      <th>5921</th>\n",
       "      <td>BA SALES</td>\n",
       "      <td>1</td>\n",
       "    </tr>\n",
       "  </tbody>\n",
       "</table>\n",
       "<p>287 rows × 2 columns</p>\n",
       "</div>"
      ],
      "text/plain": [
       "                                            App    Installs\n",
       "391               Skype - free IM & video calls  1000000000\n",
       "382    Messenger – Text and Video Chat for Free  1000000000\n",
       "464                                    Hangouts  1000000000\n",
       "336                          WhatsApp Messenger  1000000000\n",
       "411                Google Chrome: Fast & Secure  1000000000\n",
       "...                                         ...         ...\n",
       "9648                                  EO Mumbai          10\n",
       "10748                                   FP Live          10\n",
       "10169                        Test Server SMS FA           5\n",
       "6399                     Of the wall Arapaho bk           5\n",
       "5921                                   BA SALES           1\n",
       "\n",
       "[287 rows x 2 columns]"
      ]
     },
     "execution_count": 51,
     "metadata": {},
     "output_type": "execute_result"
    }
   ],
   "source": [
    "android_analytical_df.loc[android_analytical_df[\"Category\"] == \"COMMUNICATION\", [\"App\", \"Installs\"]].sort_values(\"Installs\", ascending=False)"
   ]
  },
  {
   "cell_type": "markdown",
   "id": "180f8a62",
   "metadata": {},
   "source": [
    "The output above shows that the average number of installs of `COMMUNICATION` apps is heavily skewed by a few apps that have over one billion installs (e.g - Skype, Facebook Messenger, Google Hangouts, WhatsApp Messenger, etc.), as well as a few apps with over 100 and 500 million installs.\n",
    "\n",
    "The function `print_apps_with_100m_plus_installs()` below singles out these apps:\n"
   ]
  },
  {
   "cell_type": "code",
   "execution_count": 55,
   "id": "c9235212",
   "metadata": {},
   "outputs": [],
   "source": [
    "def print_apps_with_100m_plus_installs(cat_name):\n",
    "    apps_with_100m_plus_installs = android_analytical_df.loc[(android_analytical_df[\"Category\"] == cat_name) & (android_analytical_df[\"Installs\"] >= 100000000), [\"App\", \"Installs\"]].sort_values(\"Installs\", ascending=False)\n",
    "    display(apps_with_100m_plus_installs)\n",
    "    print(\"Number of apps with 100,000,000 or more installs:\", apps_with_100m_plus_installs.shape[0])"
   ]
  },
  {
   "cell_type": "markdown",
   "id": "2c6ea1e6",
   "metadata": {},
   "source": [
    "Running the above function for all the `COMMUNICATION` apps produces the following:\n"
   ]
  },
  {
   "cell_type": "code",
   "execution_count": 56,
   "id": "5ff82825",
   "metadata": {},
   "outputs": [
    {
     "data": {
      "text/html": [
       "<div>\n",
       "<style scoped>\n",
       "    .dataframe tbody tr th:only-of-type {\n",
       "        vertical-align: middle;\n",
       "    }\n",
       "\n",
       "    .dataframe tbody tr th {\n",
       "        vertical-align: top;\n",
       "    }\n",
       "\n",
       "    .dataframe thead th {\n",
       "        text-align: right;\n",
       "    }\n",
       "</style>\n",
       "<table border=\"1\" class=\"dataframe\">\n",
       "  <thead>\n",
       "    <tr style=\"text-align: right;\">\n",
       "      <th></th>\n",
       "      <th>App</th>\n",
       "      <th>Installs</th>\n",
       "    </tr>\n",
       "  </thead>\n",
       "  <tbody>\n",
       "    <tr>\n",
       "      <th>336</th>\n",
       "      <td>WhatsApp Messenger</td>\n",
       "      <td>1000000000</td>\n",
       "    </tr>\n",
       "    <tr>\n",
       "      <th>391</th>\n",
       "      <td>Skype - free IM &amp; video calls</td>\n",
       "      <td>1000000000</td>\n",
       "    </tr>\n",
       "    <tr>\n",
       "      <th>382</th>\n",
       "      <td>Messenger – Text and Video Chat for Free</td>\n",
       "      <td>1000000000</td>\n",
       "    </tr>\n",
       "    <tr>\n",
       "      <th>411</th>\n",
       "      <td>Google Chrome: Fast &amp; Secure</td>\n",
       "      <td>1000000000</td>\n",
       "    </tr>\n",
       "    <tr>\n",
       "      <th>464</th>\n",
       "      <td>Hangouts</td>\n",
       "      <td>1000000000</td>\n",
       "    </tr>\n",
       "    <tr>\n",
       "      <th>451</th>\n",
       "      <td>Gmail</td>\n",
       "      <td>1000000000</td>\n",
       "    </tr>\n",
       "    <tr>\n",
       "      <th>403</th>\n",
       "      <td>LINE: Free Calls &amp; Messages</td>\n",
       "      <td>500000000</td>\n",
       "    </tr>\n",
       "    <tr>\n",
       "      <th>4676</th>\n",
       "      <td>Viber Messenger</td>\n",
       "      <td>500000000</td>\n",
       "    </tr>\n",
       "    <tr>\n",
       "      <th>420</th>\n",
       "      <td>UC Browser - Fast Download Private &amp; Secure</td>\n",
       "      <td>500000000</td>\n",
       "    </tr>\n",
       "    <tr>\n",
       "      <th>383</th>\n",
       "      <td>imo free video calls and chat</td>\n",
       "      <td>500000000</td>\n",
       "    </tr>\n",
       "    <tr>\n",
       "      <th>371</th>\n",
       "      <td>Google Duo - High Quality Video Calls</td>\n",
       "      <td>500000000</td>\n",
       "    </tr>\n",
       "    <tr>\n",
       "      <th>393</th>\n",
       "      <td>Who</td>\n",
       "      <td>100000000</td>\n",
       "    </tr>\n",
       "    <tr>\n",
       "      <th>395</th>\n",
       "      <td>GO SMS Pro - Messenger, Free Themes, Emoji</td>\n",
       "      <td>100000000</td>\n",
       "    </tr>\n",
       "    <tr>\n",
       "      <th>346</th>\n",
       "      <td>imo beta free calls and text</td>\n",
       "      <td>100000000</td>\n",
       "    </tr>\n",
       "    <tr>\n",
       "      <th>369</th>\n",
       "      <td>Android Messages</td>\n",
       "      <td>100000000</td>\n",
       "    </tr>\n",
       "    <tr>\n",
       "      <th>4106</th>\n",
       "      <td>Messenger Lite: Free Calls &amp; Messages</td>\n",
       "      <td>100000000</td>\n",
       "    </tr>\n",
       "    <tr>\n",
       "      <th>4279</th>\n",
       "      <td>Kik</td>\n",
       "      <td>100000000</td>\n",
       "    </tr>\n",
       "    <tr>\n",
       "      <th>4302</th>\n",
       "      <td>KakaoTalk: Free Calls &amp; Text</td>\n",
       "      <td>100000000</td>\n",
       "    </tr>\n",
       "    <tr>\n",
       "      <th>412</th>\n",
       "      <td>Firefox Browser fast &amp; private</td>\n",
       "      <td>100000000</td>\n",
       "    </tr>\n",
       "    <tr>\n",
       "      <th>4421</th>\n",
       "      <td>Opera Mini - fast web browser</td>\n",
       "      <td>100000000</td>\n",
       "    </tr>\n",
       "    <tr>\n",
       "      <th>4422</th>\n",
       "      <td>Opera Browser: Fast and Secure</td>\n",
       "      <td>100000000</td>\n",
       "    </tr>\n",
       "    <tr>\n",
       "      <th>4602</th>\n",
       "      <td>Truecaller: Caller ID, SMS spam blocking &amp; Dialer</td>\n",
       "      <td>100000000</td>\n",
       "    </tr>\n",
       "    <tr>\n",
       "      <th>4592</th>\n",
       "      <td>Telegram</td>\n",
       "      <td>100000000</td>\n",
       "    </tr>\n",
       "    <tr>\n",
       "      <th>4633</th>\n",
       "      <td>UC Browser Mini -Tiny Fast Private &amp; Secure</td>\n",
       "      <td>100000000</td>\n",
       "    </tr>\n",
       "    <tr>\n",
       "      <th>4712</th>\n",
       "      <td>WeChat</td>\n",
       "      <td>100000000</td>\n",
       "    </tr>\n",
       "    <tr>\n",
       "      <th>4800</th>\n",
       "      <td>Yahoo Mail – Stay Organized</td>\n",
       "      <td>100000000</td>\n",
       "    </tr>\n",
       "    <tr>\n",
       "      <th>6449</th>\n",
       "      <td>BBM - Free Calls &amp; Messages</td>\n",
       "      <td>100000000</td>\n",
       "    </tr>\n",
       "  </tbody>\n",
       "</table>\n",
       "</div>"
      ],
      "text/plain": [
       "                                                    App    Installs\n",
       "336                                  WhatsApp Messenger  1000000000\n",
       "391                       Skype - free IM & video calls  1000000000\n",
       "382            Messenger – Text and Video Chat for Free  1000000000\n",
       "411                        Google Chrome: Fast & Secure  1000000000\n",
       "464                                            Hangouts  1000000000\n",
       "451                                               Gmail  1000000000\n",
       "403                         LINE: Free Calls & Messages   500000000\n",
       "4676                                    Viber Messenger   500000000\n",
       "420         UC Browser - Fast Download Private & Secure   500000000\n",
       "383                       imo free video calls and chat   500000000\n",
       "371               Google Duo - High Quality Video Calls   500000000\n",
       "393                                                 Who   100000000\n",
       "395          GO SMS Pro - Messenger, Free Themes, Emoji   100000000\n",
       "346                        imo beta free calls and text   100000000\n",
       "369                                    Android Messages   100000000\n",
       "4106              Messenger Lite: Free Calls & Messages   100000000\n",
       "4279                                                Kik   100000000\n",
       "4302                       KakaoTalk: Free Calls & Text   100000000\n",
       "412                      Firefox Browser fast & private   100000000\n",
       "4421                      Opera Mini - fast web browser   100000000\n",
       "4422                     Opera Browser: Fast and Secure   100000000\n",
       "4602  Truecaller: Caller ID, SMS spam blocking & Dialer   100000000\n",
       "4592                                           Telegram   100000000\n",
       "4633        UC Browser Mini -Tiny Fast Private & Secure   100000000\n",
       "4712                                             WeChat   100000000\n",
       "4800                        Yahoo Mail – Stay Organized   100000000\n",
       "6449                        BBM - Free Calls & Messages   100000000"
      ]
     },
     "metadata": {},
     "output_type": "display_data"
    },
    {
     "name": "stdout",
     "output_type": "stream",
     "text": [
      "Number of apps with 100,000,000 or more installs: 27\n"
     ]
    }
   ],
   "source": [
    "print_apps_with_100m_plus_installs(\"COMMUNICATION\")"
   ]
  },
  {
   "cell_type": "markdown",
   "id": "6ee9df46",
   "metadata": {},
   "source": [
    "A similar pattern can be seen for `VIDEO_PLAYERS` (which has the 2nd highest number of average installs at 24,727,872.45), `SOCIAL` (with 23,253,652.13 average installs), `PHOTOGRAPHY` (with 17,840,110.40), `PRODUCTIVITY` (with 16,787,331.34):\n"
   ]
  },
  {
   "cell_type": "code",
   "execution_count": null,
   "id": "20bf3528",
   "metadata": {},
   "outputs": [
    {
     "name": "stdout",
     "output_type": "stream",
     "text": [
      "YouTube : 1,000,000,000+\n",
      "Motorola Gallery : 100,000,000+\n",
      "VLC for Android : 100,000,000+\n",
      "Google Play Movies & TV : 1,000,000,000+\n",
      "MX Player : 500,000,000+\n",
      "Dubsmash : 100,000,000+\n",
      "VivaVideo - Video Editor & Photo Movie : 100,000,000+\n",
      "VideoShow-Video Editor, Video Maker, Beauty Camera : 100,000,000+\n",
      "Motorola FM Radio : 100,000,000+\n",
      "\n",
      "Number of apps with 100,000,000 or more installs: 9\n"
     ]
    }
   ],
   "source": [
    "print_apps_with_100m_plus_installs(\"VIDEO_PLAYERS\")"
   ]
  },
  {
   "cell_type": "code",
   "execution_count": null,
   "id": "16b3e55b",
   "metadata": {},
   "outputs": [
    {
     "name": "stdout",
     "output_type": "stream",
     "text": [
      "Facebook : 1,000,000,000+\n",
      "Facebook Lite : 500,000,000+\n",
      "Tumblr : 100,000,000+\n",
      "Pinterest : 100,000,000+\n",
      "Google+ : 1,000,000,000+\n",
      "Badoo - Free Chat & Dating App : 100,000,000+\n",
      "Tango - Live Video Broadcast : 100,000,000+\n",
      "Instagram : 1,000,000,000+\n",
      "Snapchat : 500,000,000+\n",
      "LinkedIn : 100,000,000+\n",
      "Tik Tok - including musical.ly : 100,000,000+\n",
      "BIGO LIVE - Live Stream : 100,000,000+\n",
      "VK : 100,000,000+\n",
      "\n",
      "Number of apps with 100,000,000 or more installs: 13\n"
     ]
    }
   ],
   "source": [
    "print_apps_with_100m_plus_installs(\"SOCIAL\")"
   ]
  },
  {
   "cell_type": "code",
   "execution_count": null,
   "id": "a8fd632c",
   "metadata": {},
   "outputs": [
    {
     "name": "stdout",
     "output_type": "stream",
     "text": [
      "B612 - Beauty & Filter Camera : 100,000,000+\n",
      "YouCam Makeup - Magic Selfie Makeovers : 100,000,000+\n",
      "Sweet Selfie - selfie camera, beauty cam, photo edit : 100,000,000+\n",
      "Google Photos : 1,000,000,000+\n",
      "Retrica : 100,000,000+\n",
      "Photo Editor Pro : 100,000,000+\n",
      "BeautyPlus - Easy Photo Editor & Selfie Camera : 100,000,000+\n",
      "PicsArt Photo Studio: Collage Maker & Pic Editor : 100,000,000+\n",
      "Photo Collage Editor : 100,000,000+\n",
      "Z Camera - Photo Editor, Beauty Selfie, Collage : 100,000,000+\n",
      "PhotoGrid: Video & Pic Collage Maker, Photo Editor : 100,000,000+\n",
      "Candy Camera - selfie, beauty camera, photo editor : 100,000,000+\n",
      "YouCam Perfect - Selfie Photo Editor : 100,000,000+\n",
      "Camera360: Selfie Photo Editor with Funny Sticker : 100,000,000+\n",
      "S Photo Editor - Collage Maker , Photo Collage : 100,000,000+\n",
      "AR effect : 100,000,000+\n",
      "Cymera Camera- Photo Editor, Filter,Collage,Layout : 100,000,000+\n",
      "LINE Camera - Photo editor : 100,000,000+\n",
      "Photo Editor Collage Maker Pro : 100,000,000+\n",
      "\n",
      "Number of apps with 100,000,000 or more installs: 19\n"
     ]
    }
   ],
   "source": [
    "print_apps_with_100m_plus_installs(\"PHOTOGRAPHY\")"
   ]
  },
  {
   "cell_type": "code",
   "execution_count": null,
   "id": "af62f5c0",
   "metadata": {},
   "outputs": [
    {
     "name": "stdout",
     "output_type": "stream",
     "text": [
      "Microsoft Word : 500,000,000+\n",
      "Microsoft Outlook : 100,000,000+\n",
      "Microsoft OneDrive : 100,000,000+\n",
      "Microsoft OneNote : 100,000,000+\n",
      "Google Keep : 100,000,000+\n",
      "ES File Explorer File Manager : 100,000,000+\n",
      "Dropbox : 500,000,000+\n",
      "Google Docs : 100,000,000+\n",
      "Microsoft PowerPoint : 100,000,000+\n",
      "Samsung Notes : 100,000,000+\n",
      "SwiftKey Keyboard : 100,000,000+\n",
      "Google Drive : 1,000,000,000+\n",
      "Adobe Acrobat Reader : 100,000,000+\n",
      "Google Sheets : 100,000,000+\n",
      "Microsoft Excel : 100,000,000+\n",
      "WPS Office - Word, Docs, PDF, Note, Slide & Sheet : 100,000,000+\n",
      "Google Slides : 100,000,000+\n",
      "ColorNote Notepad Notes : 100,000,000+\n",
      "Evernote – Organizer, Planner for Notes & Memos : 100,000,000+\n",
      "Google Calendar : 500,000,000+\n",
      "Cloud Print : 500,000,000+\n",
      "CamScanner - Phone PDF Creator : 100,000,000+\n",
      "\n",
      "Number of apps with 100,000,000 or more installs: 22\n"
     ]
    }
   ],
   "source": [
    "print_apps_with_100m_plus_installs(\"PRODUCTIVITY\")"
   ]
  },
  {
   "cell_type": "markdown",
   "id": "998324b8",
   "metadata": {},
   "source": [
    "Nine apps (including major apps like YouTube, Google Play Movies & TV, and MX Player) dominate the `VIDEO_PLAYER` market and each have more than 100 million installs.\n",
    "\n",
    "Instagram, Facebook, Google+ and ten other apps have more than 100 million installs in the `SOCIAL` genre.\n",
    "\n",
    "The `PHOTOGRAPHY` genre has 19 apps with more than 100 million installs, with apps likes Google Photos.\n",
    "\n",
    "Lastly, the `PRODUCTIVITY` genre has 22 apps with more than 100 million installs and has major applications like Dropbox, Microsoft Word, Google Calendar, Evernote.\n"
   ]
  },
  {
   "cell_type": "markdown",
   "id": "91c9cba0",
   "metadata": {},
   "source": [
    "What this shows is that these genres are dominated by a few giant apps that are difficult to compete with.\n"
   ]
  },
  {
   "cell_type": "markdown",
   "id": "2ca9a439",
   "metadata": {},
   "source": [
    "Although the `GAME` genre appears to be quite popular, my earlier analysis of the iOS App Store indicated that this segment of the market is relatively saturated. For this reason, I sought to identify an alternative app category that may offer greater opportunity.\n",
    "\n",
    "The `BOOKS_AND_REFERENCE` also demonstrates notable popularity, with an average install count of 87,67,811.89. This category warrants further exploration, as my earlier findings suggest it holds potential for success on the iOS App Store. Since my objective is to recommend an app genre with profitability prospects across both the iOS App Store and Google Play Store, this genre emerged as a promising candidate.\n"
   ]
  },
  {
   "cell_type": "markdown",
   "id": "5bc68ffd",
   "metadata": {},
   "source": [
    "Taking a look at the apps in the `BOOKS_AND_REFERENCE` genre and their number of installs:\n"
   ]
  },
  {
   "cell_type": "code",
   "execution_count": null,
   "id": "adce360d",
   "metadata": {},
   "outputs": [
    {
     "name": "stdout",
     "output_type": "stream",
     "text": [
      "Google Play Books: 1000000000.0\n",
      "Wattpad 📖 Free Books: 100000000.0\n",
      "Bible: 100000000.0\n",
      "Audiobooks from Audible: 100000000.0\n",
      "Amazon Kindle: 100000000.0\n",
      "Wikipedia: 10000000.0\n",
      "Spanish English Translator: 10000000.0\n",
      "Quran for Android: 10000000.0\n",
      "Oxford Dictionary of English : Free: 10000000.0\n",
      "NOOK: Read eBooks & Magazines: 10000000.0\n",
      "Moon+ Reader: 10000000.0\n",
      "JW Library: 10000000.0\n",
      "HTC Help: 10000000.0\n",
      "FBReader: Favorite Book Reader: 10000000.0\n",
      "English Hindi Dictionary: 10000000.0\n",
      "English Dictionary - Offline: 10000000.0\n",
      "Dictionary.com: Find Definitions for English Words: 10000000.0\n",
      "Dictionary - Merriam-Webster: 10000000.0\n",
      "Dictionary: 10000000.0\n",
      "Cool Reader: 10000000.0\n",
      "Aldiko Book Reader: 10000000.0\n",
      "Al-Quran (Free): 10000000.0\n",
      "Al'Quran Bahasa Indonesia: 10000000.0\n",
      "Al Quran Indonesia: 10000000.0\n",
      "Read books online: 5000000.0\n",
      "English to Hindi Dictionary: 5000000.0\n",
      "Ebook Reader: 5000000.0\n",
      "Dictionary - WordWeb: 5000000.0\n",
      "Bible KJV: 5000000.0\n",
      "Ancestry: 5000000.0\n",
      "AlReader -any text book reader: 5000000.0\n",
      "Al Quran : EAlim - Translations & MP3 Offline: 5000000.0\n",
      "50000 Free eBooks & Free AudioBooks: 5000000.0\n",
      "wikiHow: how to do anything: 1000000.0\n",
      "eBoox: book reader fb2 epub zip: 1000000.0\n",
      "Stats Royale for Clash Royale: 1000000.0\n",
      "Satellite AR: 1000000.0\n",
      "ReadEra – free ebook reader: 1000000.0\n",
      "Oxford A-Z of English Usage: 1000000.0\n",
      "My Little Pony AR Guide: 1000000.0\n",
      "Koran Read &MP3 30 Juz Offline: 1000000.0\n",
      "Hafizi Quran 15 lines per page: 1000000.0\n",
      "Golden Dictionary (EN-AR): 1000000.0\n",
      "Free Books - Spirit Fanfiction and Stories: 1000000.0\n",
      "FamilySearch Tree: 1000000.0\n",
      "English-Myanmar Dictionary: 1000000.0\n",
      "EGW Writings: 1000000.0\n",
      "Cloud of Books: 1000000.0\n",
      "Brilliant Quotes: Life, Love, Family & Motivation: 1000000.0\n",
      "Book store: 1000000.0\n",
      "All Maths Formulas: 1000000.0\n",
      "All Language Translator Free: 1000000.0\n",
      "Al Quran Al karim: 1000000.0\n",
      "Youboox - Livres, BD et magazines: 500000.0\n",
      "SDA Sabbath School Quarterly: 500000.0\n",
      "Recipes of Prophetic Medicine for free: 500000.0\n",
      "Only 30 days in English, the guideline is guaranteed: 500000.0\n",
      "Offline: English to Tagalog Dictionary: 500000.0\n",
      "NOOK Audiobooks: 500000.0\n",
      "NOOK App for NOOK Devices: 500000.0\n",
      "Google I/O 2018: 500000.0\n",
      "Golden Dictionary (FR-AR): 500000.0\n",
      "Flybook: 500000.0\n",
      "English to Urdu Dictionary: 500000.0\n",
      "English Persian Dictionary: 500000.0\n",
      "English Grammar Complete Handbook: 500000.0\n",
      "Azpen eReader: 500000.0\n",
      "Al-Quran 30 Juz free copies: 500000.0\n",
      "Al Quran (Tafsir & by Word): 500000.0\n",
      "cloudLibrary: 100000.0\n",
      "V Made: 100000.0\n",
      "URBANO V 02 instruction manual: 100000.0\n",
      "Surah Al-Waqiah: 100000.0\n",
      "Sabbath School: 100000.0\n",
      "Pdf Book Download - Read Pdf Book: 100000.0\n",
      "Offline English Dictionary: 100000.0\n",
      "Litnet - E-books: 100000.0\n",
      "Hymnes et Louanges: 100000.0\n",
      "How to Write CV: 100000.0\n",
      "Hisnul Al Muslim - Hisn Invocations & Adhkaar: 100000.0\n",
      "Guide (for X-MEN): 100000.0\n",
      "Free Panda Radio Music: 100000.0\n",
      "Free Book Reader: 100000.0\n",
      "English translation from Bengali: 100000.0\n",
      "EGW Writings 2: 100000.0\n",
      "Download free book with green book: 100000.0\n",
      "Bible with EGW Comments: 100000.0\n",
      "BakaReader EX: 100000.0\n",
      "Aab e Hayat Full Novel: 100000.0\n",
      "eBoox new: Reader for fb2 epub zip books: 50000.0\n",
      "SH-02J Owner's Manual (Android 8.0): 50000.0\n",
      "La citadelle du musulman: 50000.0\n",
      "Fertilizer Removal By Crop: 50000.0\n",
      "EZ Quran: 50000.0\n",
      "E-Book Read - Read Book for free: 50000.0\n",
      "DV 2019 - EDV Photo & Form: 50000.0\n",
      "C Programs and Reference: 50000.0\n",
      "C Programs Handbook: 50000.0\n",
      "Bible du Semeur-BDS (French): 50000.0\n",
      "Al-Muhaffiz: 50000.0\n",
      "TN Patta Citta & EC: 10000.0\n",
      "R Language Reference Guide: 10000.0\n",
      "Kristian Hla Bu: 10000.0\n",
      "Kinot & Eichah for Tisha B'Av: 10000.0\n",
      "Guide for DB Xenoverse 2: 10000.0\n",
      "Guide for DB Xenoverse: 10000.0\n",
      "English To Shona Dictionary: 10000.0\n",
      "Easy Cv maker 2018: 10000.0\n",
      "DV 2019 Entry Guide: 10000.0\n",
      "DM Screen: 10000.0\n",
      "Bulgarian French Dictionary Fr: 10000.0\n",
      "Borneo Bible, BM Bible: 10000.0\n",
      "Bootable Methods(USB-CD-DVD): 10000.0\n",
      "BR Ambedkar Biography & Quotes: 10000.0\n",
      "BD All Sim Offer: 10000.0\n",
      "B&H Kids AR: 10000.0\n",
      "Ay Mohabbat Teri Khatir Novel: 10000.0\n",
      "Ay Hasnain k Nana Milad Naat: 10000.0\n",
      "Anonymous caller detection: 10000.0\n",
      "Ag PhD Field Guide: 10000.0\n",
      "Ag PhD Deficiencies: 10000.0\n",
      "Ae Allah na Dai (Rasa): 10000.0\n",
      "AP Stamps and Registration: 10000.0\n",
      "Learn R Programming Full: 5000.0\n",
      "Learn CT Scan Of Head: 5000.0\n",
      "Fanfic-FR: 5000.0\n",
      "FA Part 1 & 2 Past Papers Solved Free – Offline: 5000.0\n",
      "EC - AP & Telangana: 5000.0\n",
      "Duaa Ek Ibaadat: 5000.0\n",
      "DC HSEMA: 5000.0\n",
      "CA Laws 2018 (California Laws and Codes): 5000.0\n",
      "Browsery by Barnes & Noble: 5000.0\n",
      "Bilingual Dictionary Audio App: 5000.0\n",
      "B y H Niños ES: 5000.0\n",
      "AY Sing: 5000.0\n",
      "AW Tozer Devotionals - Daily: 5000.0\n",
      "AC Air condition Troubleshoot,Repair,Maintenance: 5000.0\n",
      "bp e-store: 1000.0\n",
      "Tozer Devotional -Series 1: 1000.0\n",
      "The SCP Foundation DB fr nn5n: 1000.0\n",
      "The Pursuit of God: 1000.0\n",
      "SA HLA BU: 1000.0\n",
      "R Quick Reference Big Data: 1000.0\n",
      "R Programing Offline Tutorial: 1000.0\n",
      "Painting Lulu DC Super Friends: 1000.0\n",
      "La Fe de Jesus: 1000.0\n",
      "Greek Bible FP (Audio): 1000.0\n",
      "Florida Statutes (FL Code): 1000.0\n",
      "Florida - Pocket Brainbook: 1000.0\n",
      "Fix Error Google Playstore: 1000.0\n",
      "EU Data Protection: 1000.0\n",
      "EU Charter: 1000.0\n",
      "EP Research Service: 1000.0\n",
      "EB Annual Meetings: 1000.0\n",
      "Dr. Doug's Tips: 1000.0\n",
      "DV 2018 Winners Guide: 1000.0\n",
      "DC Public Library: 1000.0\n",
      "D. H. Lawrence Poems FREE: 1000.0\n",
      "Chemin (fr): 1000.0\n",
      "CW Nuclear: 1000.0\n",
      "C Offline Tutorial: 1000.0\n",
      "BM Box: 1000.0\n",
      "BD Fishpedia: 1000.0\n",
      "Arizona Statutes, ARS (AZ Law): 1000.0\n",
      "Ag PhD Soybean Diseases: 1000.0\n",
      "Ag PhD Planting Population Calculator: 1000.0\n",
      "AE Bulletins: 1000.0\n",
      "SDA Collegiate Quarterly: 500.0\n",
      "Modlitební knížka CZ: 500.0\n",
      "Learn SAP BW on HANA: 500.0\n",
      "Learn SAP BW: 500.0\n",
      "Le Fe de Jesus: 500.0\n",
      "La Fe de Jesús: 500.0\n",
      "Catholic La Bu Zo Kam: 500.0\n",
      "MOD Black for BM: 100.0\n",
      "EU IP Codes: 100.0\n",
      "Cypress College Library: 100.0\n",
      "CompactiMa EC pH Calibration: 100.0\n",
      "BU Alsace: 100.0\n",
      "Anime Mod for BM: 100.0\n",
      "GATE 21 years CS Papers(2011-2018 Solved): 50.0\n",
      "A-J Media Vault: 50.0\n",
      "Learn R Programming: 10.0\n",
      "Khrifa Hla Bu (Solfa): 10.0\n",
      "Guide for IMS DB: 10.0\n",
      "CY Spray nozzle: 10.0\n",
      "Guide for R Programming: 5.0\n",
      "EW PDF: 5.0\n",
      "CZ-Help: 5.0\n",
      "BibleRead En Cy Zh Yue: 5.0\n"
     ]
    }
   ],
   "source": [
    "# This empty dictionary will store the name and number of installs for each app in the BOOKS_AND_REFERENCE genre\n",
    "book_ref_dict = {}\n",
    "\n",
    "# Loop through the Google Play Store dataset\n",
    "for app in android_final:\n",
    "    # For each app in the books and reference genre, remove any plus-signs or commas, convert the number to a float data type, and add it to the book_ref_dict\n",
    "    if app[1] == \"BOOKS_AND_REFERENCE\":\n",
    "        num_of_installs = app[5]\n",
    "        num_of_installs = num_of_installs.replace(\"+\", \"\")\n",
    "        num_of_installs = num_of_installs.replace(\",\", \"\")\n",
    "        book_ref_dict[app[0]] = float(num_of_installs)\n",
    "\n",
    "# Sort and print the book_ref_dict\n",
    "sort_output(book_ref_dict)"
   ]
  },
  {
   "cell_type": "markdown",
   "id": "d74ad05b",
   "metadata": {},
   "source": [
    "The books and reference genre encompasses a wide range of applications, including ebook readers, digital library collections, dictionaries, and educational resources such as programming or language tutorials. Upon closer examination, I observed that a small number of highly popular apps appear to disproportionately influence the average install figures:\n"
   ]
  },
  {
   "cell_type": "code",
   "execution_count": null,
   "id": "03505757",
   "metadata": {},
   "outputs": [
    {
     "name": "stdout",
     "output_type": "stream",
     "text": [
      "Google Play Books : 1,000,000,000+\n",
      "Bible : 100,000,000+\n",
      "Amazon Kindle : 100,000,000+\n",
      "Wattpad 📖 Free Books : 100,000,000+\n",
      "Audiobooks from Audible : 100,000,000+\n",
      "\n",
      "Number of apps with 100,000,000 or more installs: 5\n"
     ]
    }
   ],
   "source": [
    "print_apps_with_100m_plus_installs(\"BOOKS_AND_REFERENCE\")"
   ]
  },
  {
   "cell_type": "markdown",
   "id": "e794753c",
   "metadata": {},
   "source": [
    "Although the genre contains only a limited number of exceptionally popular apps, the market still appears to hold potential. To generate viable app ideas, I focused on examining applications with moderate levels of popularity, specifically those with download counts between one million and one hundred million.\n"
   ]
  },
  {
   "cell_type": "code",
   "execution_count": null,
   "id": "c19d8696",
   "metadata": {},
   "outputs": [
    {
     "name": "stdout",
     "output_type": "stream",
     "text": [
      "Wikipedia : 10,000,000+\n",
      "Cool Reader : 10,000,000+\n",
      "Book store : 1,000,000+\n",
      "FBReader: Favorite Book Reader : 10,000,000+\n",
      "Free Books - Spirit Fanfiction and Stories : 1,000,000+\n",
      "AlReader -any text book reader : 5,000,000+\n",
      "FamilySearch Tree : 1,000,000+\n",
      "Cloud of Books : 1,000,000+\n",
      "ReadEra – free ebook reader : 1,000,000+\n",
      "Ebook Reader : 5,000,000+\n",
      "Read books online : 5,000,000+\n",
      "eBoox: book reader fb2 epub zip : 1,000,000+\n",
      "All Maths Formulas : 1,000,000+\n",
      "Ancestry : 5,000,000+\n",
      "HTC Help : 10,000,000+\n",
      "Moon+ Reader : 10,000,000+\n",
      "English-Myanmar Dictionary : 1,000,000+\n",
      "Golden Dictionary (EN-AR) : 1,000,000+\n",
      "All Language Translator Free : 1,000,000+\n",
      "Aldiko Book Reader : 10,000,000+\n",
      "Dictionary - WordWeb : 5,000,000+\n",
      "50000 Free eBooks & Free AudioBooks : 5,000,000+\n",
      "Al-Quran (Free) : 10,000,000+\n",
      "Al Quran Indonesia : 10,000,000+\n",
      "Al'Quran Bahasa Indonesia : 10,000,000+\n",
      "Al Quran Al karim : 1,000,000+\n",
      "Al Quran : EAlim - Translations & MP3 Offline : 5,000,000+\n",
      "Koran Read &MP3 30 Juz Offline : 1,000,000+\n",
      "Hafizi Quran 15 lines per page : 1,000,000+\n",
      "Quran for Android : 10,000,000+\n",
      "Satellite AR : 1,000,000+\n",
      "Oxford A-Z of English Usage : 1,000,000+\n",
      "Dictionary.com: Find Definitions for English Words : 10,000,000+\n",
      "English Dictionary - Offline : 10,000,000+\n",
      "Bible KJV : 5,000,000+\n",
      "NOOK: Read eBooks & Magazines : 10,000,000+\n",
      "Brilliant Quotes: Life, Love, Family & Motivation : 1,000,000+\n",
      "Stats Royale for Clash Royale : 1,000,000+\n",
      "Dictionary : 10,000,000+\n",
      "wikiHow: how to do anything : 1,000,000+\n",
      "EGW Writings : 1,000,000+\n",
      "My Little Pony AR Guide : 1,000,000+\n",
      "Spanish English Translator : 10,000,000+\n",
      "Dictionary - Merriam-Webster : 10,000,000+\n",
      "JW Library : 10,000,000+\n",
      "Oxford Dictionary of English : Free : 10,000,000+\n",
      "English Hindi Dictionary : 10,000,000+\n",
      "English to Hindi Dictionary : 5,000,000+\n"
     ]
    }
   ],
   "source": [
    "# Loop through the Google Play Store dataset\n",
    "for app in android_final:\n",
    "    # Find and print the names of each app in the book and reference genre with their number of installs if the number of installs is between one million and one hundred million\n",
    "    if app[1] == \"BOOKS_AND_REFERENCE\" and app[5] in [\n",
    "        \"1,000,000+\",\n",
    "        \"5,000,000+\",\n",
    "        \"10,000,000+\",\n",
    "        \"50,000,000+\",\n",
    "    ]:\n",
    "        print(app[0], \":\", app[5])"
   ]
  },
  {
   "cell_type": "markdown",
   "id": "bdff010a",
   "metadata": {},
   "source": [
    "This niche appears to be largely dominated by ebook readers, library collections, and dictionary applications. Given the level of existing competition, developing a similar app may not be the most strategic approach.\n",
    "\n",
    "I also observed a significant number of apps centered around the Quran, which indicates that creating an app based on a well-known book can be a viable and profitable strategy. This suggests that adapting a popular or recently published book into an app may hold potential for success in both the Google Play and iOS App Store markets.\n",
    "\n",
    "However, since the market is already saturated with basic library apps, it would be important to offer additional features that enhance the user experience. These could include daily excerpts or quotes, audio narration, interactive quizzes, or a discussion forum to foster engagement around the content.\n"
   ]
  },
  {
   "cell_type": "markdown",
   "id": "b196d566",
   "metadata": {},
   "source": [
    "## Conclusion\n"
   ]
  },
  {
   "cell_type": "markdown",
   "id": "960c025b",
   "metadata": {},
   "source": [
    "In this project, I conducted an analysis of mobile app data from both the iOS App Store and Google Play Store with the objective of identifying an app profile that has the potential to generate profit across both platforms.\n",
    "\n",
    "Based on the findings, I concluded that developing an app based on a popular book, particularly a recent publication, could be a viable strategy for profitability in both markets. Given the existing saturation of library-style apps, it would be necessary to differentiate the product by incorporating additional features. These may include daily quotes, an audio narration of the book, interactive quizzes, or a community forum for discussion.\n"
   ]
  }
 ],
 "metadata": {
  "kernelspec": {
   "display_name": ".venv",
   "language": "python",
   "name": "python3"
  },
  "language_info": {
   "codemirror_mode": {
    "name": "ipython",
    "version": 3
   },
   "file_extension": ".py",
   "mimetype": "text/x-python",
   "name": "python",
   "nbconvert_exporter": "python",
   "pygments_lexer": "ipython3",
   "version": "3.12.10"
  }
 },
 "nbformat": 4,
 "nbformat_minor": 5
}
